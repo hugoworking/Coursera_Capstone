{
 "cells": [
  {
   "cell_type": "markdown",
   "metadata": {},
   "source": [
    "# The Battle of Neighborhoods (Week 1)"
   ]
  },
  {
   "cell_type": "markdown",
   "metadata": {},
   "source": [
    "## 1. Introduction/ Business Problem"
   ]
  },
  {
   "cell_type": "markdown",
   "metadata": {},
   "source": [
    "#### 1.1 Background"
   ]
  },
  {
   "cell_type": "markdown",
   "metadata": {},
   "source": [
    "In recent years, with the improvement of healthcare services and living standards, consumers are becoming more health-conscious. This trend is limited to any particular country or ethnic but remain true all around the globe. Consumers are open to all means to improve their health condition, from enhanced diet to regular health care check-up. Among all means, regular sports and exercising are emerging more popular and important. To fit fit and improve health, consumers are eager and willing to attempt all kinds of sports activities, including going to gym, fitness centre, yoga studio and etc. This implies unlimited business potential to the “Sports & Fitness” industry.\n",
    "\n",
    "Being the capital city of Ontario, Toronto is the most populous city in Canada. It accommodates a large population exceeding 2.7M in 2016 and population is still on the rise. It leads to a huge demand for “Sports & Fitness Service”.\n",
    "\n",
    "However, given its history and all past establishment, Toronto is also a most developed and thus complicated city in Canada. Over the past decades, a huge amount of geographical data (e.g. coordinates, venue address, category and etc.) have accumulated for the city. It is vital to deploy that latest and most comprehensive data for our investigation. Therefore, a Data Science project on Toronto is called for in order to address the business objectives.\n",
    "\n"
   ]
  },
  {
   "cell_type": "markdown",
   "metadata": {},
   "source": [
    "#### 1.2 Business Issues and Objectives"
   ]
  },
  {
   "cell_type": "markdown",
   "metadata": {},
   "source": [
    "It is essential for brands and service providers in “Sports & Fitness” industries to grasp a better and more profound understanding of Toronto market. It includes:"
   ]
  },
  {
   "cell_type": "markdown",
   "metadata": {},
   "source": [
    "* Geopy: to get the latitude and longitude values of Toronto\n",
    "* Folium: to Create a map of Toronto with neighborhoods superimposed on top for visualization analysis\n",
    "* Foursquare API: to get location data, i.e. name of venues, respective categories, neighborhood, location coordinates for later analysis"
   ]
  },
  {
   "cell_type": "markdown",
   "metadata": {},
   "source": [
    "***"
   ]
  },
  {
   "cell_type": "markdown",
   "metadata": {},
   "source": [
    "## 2. Data Description"
   ]
  },
  {
   "cell_type": "markdown",
   "metadata": {},
   "source": [
    "### 2.1 Data Sources"
   ]
  },
  {
   "cell_type": "markdown",
   "metadata": {},
   "source": [
    "In this study, we will deploy latest geographical data on Toronto, Canada. Data are all sourced from online public domain in order to be cost-effective and most updated at time. In order to make a comprehensive analysis, data are to be extracted and scrapped from multiple sources, including:"
   ]
  },
  {
   "cell_type": "markdown",
   "metadata": {},
   "source": [
    "List of postal codes on Wikipedia page (https://en.wikipedia.org/wiki/List_of_postal_codes_of_Canada:_M)\n",
    "\n",
    "There is a table of postal codes for Toronto on the page. Yet, the data in the table are not readily applicable. Libraries (e.g. pandas, or BeautifulSoup package) are deployed so as to transform the data in the table on the Wikipedia page into the pandas dataframe. We will read pandas data and map distribution based on: Postal Codes, Borough and Neighborhood.\n",
    "Remarks: We shall only process the cells that have an assigned borough; ignore cells with a borough that is “Not Assigned”."
   ]
  },
  {
   "cell_type": "markdown",
   "metadata": {},
   "source": [
    "Geographical data given by IBM at “Applied Data Science Capstone” course (http://cocl.us/Geospatial_data)\n",
    "\n",
    "This is a link to a CSV file that has the longitude and latitude coordinates of each postal code. The data will help to map."
   ]
  },
  {
   "cell_type": "markdown",
   "metadata": {},
   "source": [
    "Latest geo-data from various libraries, including:"
   ]
  },
  {
   "cell_type": "markdown",
   "metadata": {},
   "source": [
    "* Geopy: to get the latitude and longitude values of Toronto\n",
    "* Folium: to Create a map of Toronto with neighborhoods superimposed on top for visualization analysis\n",
    "* Foursquare API: to get location data, i.e. name of venues, respective categories, neighborhood, location coordinates for later analysis"
   ]
  },
  {
   "cell_type": "markdown",
   "metadata": {},
   "source": [
    "### 2.2 Data Preparation, Cleaning & Wrangling"
   ]
  },
  {
   "cell_type": "markdown",
   "metadata": {},
   "source": [
    "Since data come from multiple sources, they may not be readily compatible. We should bear in mind to clean them properly. Furthermore, given a prolonged process of data wrangling, it is a good practice to clean the working notebook and add Markdown cells to explain steps and assumptions that we are making."
   ]
  },
  {
   "cell_type": "markdown",
   "metadata": {},
   "source": [
    "To simplify the analysis, we will emphasize the key and downtown areas in Toronto. Therefore, we will screen boroughs with Toronto. Namely, these key boroughs are:\n",
    "* Downtown Toronto\n",
    "* East Toronto\n",
    "* West Toronto\n",
    "* Central Toronto"
   ]
  },
  {
   "cell_type": "markdown",
   "metadata": {},
   "source": [
    "At first glances, we can see the location cover a very wide spectrum of venues and categories, include restaurants and café. In order to focus on “Sports & Fitness Service”, we will focus to look at related categories. They include:\n",
    "* Athletics & Sports\n",
    "* Climbing Gym\n",
    "* College Gym\n",
    "* Dance Studio\n",
    "* Gym\n",
    "* Gym / Fitness Center\n",
    "* Martial Arts School\n",
    "* Sports Bar\n",
    "* Swim School\n",
    "* Yoga Studio"
   ]
  },
  {
   "cell_type": "code",
   "execution_count": null,
   "metadata": {},
   "outputs": [],
   "source": []
  }
 ],
 "metadata": {
  "kernelspec": {
   "display_name": "Python 3",
   "language": "python",
   "name": "python3"
  },
  "language_info": {
   "codemirror_mode": {
    "name": "ipython",
    "version": 3
   },
   "file_extension": ".py",
   "mimetype": "text/x-python",
   "name": "python",
   "nbconvert_exporter": "python",
   "pygments_lexer": "ipython3",
   "version": "3.8.5"
  }
 },
 "nbformat": 4,
 "nbformat_minor": 4
}
