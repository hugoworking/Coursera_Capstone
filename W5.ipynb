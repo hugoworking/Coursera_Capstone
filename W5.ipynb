{
 "cells": [
  {
   "cell_type": "markdown",
   "metadata": {},
   "source": [
    "## Applied Data Science Capstone - Week 5"
   ]
  },
  {
   "cell_type": "markdown",
   "metadata": {},
   "source": [
    "## Data Source:\n",
    "1st: Scrap list of postal codes on Wikipedia page\n",
    "https://en.wikipedia.org/wiki/List_of_postal_codes_of_Canada:_M "
   ]
  },
  {
   "cell_type": "code",
   "execution_count": 1,
   "metadata": {},
   "outputs": [],
   "source": [
    "#Import pandas library\n",
    "import pandas as pd"
   ]
  },
  {
   "cell_type": "code",
   "execution_count": 2,
   "metadata": {},
   "outputs": [],
   "source": [
    "#Define website to be scrapped\n",
    "W='https://en.wikipedia.org/wiki/List_of_postal_codes_of_Canada:_M'"
   ]
  },
  {
   "cell_type": "code",
   "execution_count": 3,
   "metadata": {},
   "outputs": [],
   "source": [
    "#Use .read_html method to scrap ALL tables in the website\n",
    "dfs = pd.read_html(W, header=0)"
   ]
  },
  {
   "cell_type": "code",
   "execution_count": 4,
   "metadata": {},
   "outputs": [
    {
     "data": {
      "text/html": [
       "<div>\n",
       "<style scoped>\n",
       "    .dataframe tbody tr th:only-of-type {\n",
       "        vertical-align: middle;\n",
       "    }\n",
       "\n",
       "    .dataframe tbody tr th {\n",
       "        vertical-align: top;\n",
       "    }\n",
       "\n",
       "    .dataframe thead th {\n",
       "        text-align: right;\n",
       "    }\n",
       "</style>\n",
       "<table border=\"1\" class=\"dataframe\">\n",
       "  <thead>\n",
       "    <tr style=\"text-align: right;\">\n",
       "      <th></th>\n",
       "      <th>Postal Code</th>\n",
       "      <th>Borough</th>\n",
       "      <th>Neighbourhood</th>\n",
       "    </tr>\n",
       "  </thead>\n",
       "  <tbody>\n",
       "    <tr>\n",
       "      <th>0</th>\n",
       "      <td>M1A</td>\n",
       "      <td>Not assigned</td>\n",
       "      <td>Not assigned</td>\n",
       "    </tr>\n",
       "    <tr>\n",
       "      <th>1</th>\n",
       "      <td>M2A</td>\n",
       "      <td>Not assigned</td>\n",
       "      <td>Not assigned</td>\n",
       "    </tr>\n",
       "    <tr>\n",
       "      <th>2</th>\n",
       "      <td>M3A</td>\n",
       "      <td>North York</td>\n",
       "      <td>Parkwoods</td>\n",
       "    </tr>\n",
       "    <tr>\n",
       "      <th>3</th>\n",
       "      <td>M4A</td>\n",
       "      <td>North York</td>\n",
       "      <td>Victoria Village</td>\n",
       "    </tr>\n",
       "    <tr>\n",
       "      <th>4</th>\n",
       "      <td>M5A</td>\n",
       "      <td>Downtown Toronto</td>\n",
       "      <td>Regent Park, Harbourfront</td>\n",
       "    </tr>\n",
       "    <tr>\n",
       "      <th>...</th>\n",
       "      <td>...</td>\n",
       "      <td>...</td>\n",
       "      <td>...</td>\n",
       "    </tr>\n",
       "    <tr>\n",
       "      <th>175</th>\n",
       "      <td>M5Z</td>\n",
       "      <td>Not assigned</td>\n",
       "      <td>Not assigned</td>\n",
       "    </tr>\n",
       "    <tr>\n",
       "      <th>176</th>\n",
       "      <td>M6Z</td>\n",
       "      <td>Not assigned</td>\n",
       "      <td>Not assigned</td>\n",
       "    </tr>\n",
       "    <tr>\n",
       "      <th>177</th>\n",
       "      <td>M7Z</td>\n",
       "      <td>Not assigned</td>\n",
       "      <td>Not assigned</td>\n",
       "    </tr>\n",
       "    <tr>\n",
       "      <th>178</th>\n",
       "      <td>M8Z</td>\n",
       "      <td>Etobicoke</td>\n",
       "      <td>Mimico NW, The Queensway West, South of Bloor,...</td>\n",
       "    </tr>\n",
       "    <tr>\n",
       "      <th>179</th>\n",
       "      <td>M9Z</td>\n",
       "      <td>Not assigned</td>\n",
       "      <td>Not assigned</td>\n",
       "    </tr>\n",
       "  </tbody>\n",
       "</table>\n",
       "<p>180 rows × 3 columns</p>\n",
       "</div>"
      ],
      "text/plain": [
       "    Postal Code           Borough  \\\n",
       "0           M1A      Not assigned   \n",
       "1           M2A      Not assigned   \n",
       "2           M3A        North York   \n",
       "3           M4A        North York   \n",
       "4           M5A  Downtown Toronto   \n",
       "..          ...               ...   \n",
       "175         M5Z      Not assigned   \n",
       "176         M6Z      Not assigned   \n",
       "177         M7Z      Not assigned   \n",
       "178         M8Z         Etobicoke   \n",
       "179         M9Z      Not assigned   \n",
       "\n",
       "                                         Neighbourhood  \n",
       "0                                         Not assigned  \n",
       "1                                         Not assigned  \n",
       "2                                            Parkwoods  \n",
       "3                                     Victoria Village  \n",
       "4                            Regent Park, Harbourfront  \n",
       "..                                                 ...  \n",
       "175                                       Not assigned  \n",
       "176                                       Not assigned  \n",
       "177                                       Not assigned  \n",
       "178  Mimico NW, The Queensway West, South of Bloor,...  \n",
       "179                                       Not assigned  \n",
       "\n",
       "[180 rows x 3 columns]"
      ]
     },
     "execution_count": 4,
     "metadata": {},
     "output_type": "execute_result"
    }
   ],
   "source": [
    "#Desired table will be the 1st in the resulted list, i.e. [0]\n",
    "#Display dataframe\n",
    "dfs[0]"
   ]
  },
  {
   "cell_type": "code",
   "execution_count": 5,
   "metadata": {},
   "outputs": [
    {
     "data": {
      "text/plain": [
       "Not assigned        77\n",
       "North York          24\n",
       "Downtown Toronto    19\n",
       "Scarborough         17\n",
       "Etobicoke           12\n",
       "Central Toronto      9\n",
       "West Toronto         6\n",
       "East Toronto         5\n",
       "East York            5\n",
       "York                 5\n",
       "Mississauga          1\n",
       "Name: Borough, dtype: int64"
      ]
     },
     "execution_count": 5,
     "metadata": {},
     "output_type": "execute_result"
    }
   ],
   "source": [
    "#Check variables in Borough column\n",
    "dfs[0]['Borough'].value_counts(dropna= False)"
   ]
  },
  {
   "cell_type": "code",
   "execution_count": 6,
   "metadata": {},
   "outputs": [
    {
     "data": {
      "text/html": [
       "<div>\n",
       "<style scoped>\n",
       "    .dataframe tbody tr th:only-of-type {\n",
       "        vertical-align: middle;\n",
       "    }\n",
       "\n",
       "    .dataframe tbody tr th {\n",
       "        vertical-align: top;\n",
       "    }\n",
       "\n",
       "    .dataframe thead th {\n",
       "        text-align: right;\n",
       "    }\n",
       "</style>\n",
       "<table border=\"1\" class=\"dataframe\">\n",
       "  <thead>\n",
       "    <tr style=\"text-align: right;\">\n",
       "      <th></th>\n",
       "      <th>Postal Code</th>\n",
       "      <th>Borough</th>\n",
       "      <th>Neighbourhood</th>\n",
       "    </tr>\n",
       "  </thead>\n",
       "  <tbody>\n",
       "    <tr>\n",
       "      <th>2</th>\n",
       "      <td>M3A</td>\n",
       "      <td>North York</td>\n",
       "      <td>Parkwoods</td>\n",
       "    </tr>\n",
       "    <tr>\n",
       "      <th>3</th>\n",
       "      <td>M4A</td>\n",
       "      <td>North York</td>\n",
       "      <td>Victoria Village</td>\n",
       "    </tr>\n",
       "    <tr>\n",
       "      <th>4</th>\n",
       "      <td>M5A</td>\n",
       "      <td>Downtown Toronto</td>\n",
       "      <td>Regent Park, Harbourfront</td>\n",
       "    </tr>\n",
       "    <tr>\n",
       "      <th>5</th>\n",
       "      <td>M6A</td>\n",
       "      <td>North York</td>\n",
       "      <td>Lawrence Manor, Lawrence Heights</td>\n",
       "    </tr>\n",
       "    <tr>\n",
       "      <th>6</th>\n",
       "      <td>M7A</td>\n",
       "      <td>Downtown Toronto</td>\n",
       "      <td>Queen's Park, Ontario Provincial Government</td>\n",
       "    </tr>\n",
       "    <tr>\n",
       "      <th>...</th>\n",
       "      <td>...</td>\n",
       "      <td>...</td>\n",
       "      <td>...</td>\n",
       "    </tr>\n",
       "    <tr>\n",
       "      <th>160</th>\n",
       "      <td>M8X</td>\n",
       "      <td>Etobicoke</td>\n",
       "      <td>The Kingsway, Montgomery Road, Old Mill North</td>\n",
       "    </tr>\n",
       "    <tr>\n",
       "      <th>165</th>\n",
       "      <td>M4Y</td>\n",
       "      <td>Downtown Toronto</td>\n",
       "      <td>Church and Wellesley</td>\n",
       "    </tr>\n",
       "    <tr>\n",
       "      <th>168</th>\n",
       "      <td>M7Y</td>\n",
       "      <td>East Toronto</td>\n",
       "      <td>Business reply mail Processing Centre, South C...</td>\n",
       "    </tr>\n",
       "    <tr>\n",
       "      <th>169</th>\n",
       "      <td>M8Y</td>\n",
       "      <td>Etobicoke</td>\n",
       "      <td>Old Mill South, King's Mill Park, Sunnylea, Hu...</td>\n",
       "    </tr>\n",
       "    <tr>\n",
       "      <th>178</th>\n",
       "      <td>M8Z</td>\n",
       "      <td>Etobicoke</td>\n",
       "      <td>Mimico NW, The Queensway West, South of Bloor,...</td>\n",
       "    </tr>\n",
       "  </tbody>\n",
       "</table>\n",
       "<p>103 rows × 3 columns</p>\n",
       "</div>"
      ],
      "text/plain": [
       "    Postal Code           Borough  \\\n",
       "2           M3A        North York   \n",
       "3           M4A        North York   \n",
       "4           M5A  Downtown Toronto   \n",
       "5           M6A        North York   \n",
       "6           M7A  Downtown Toronto   \n",
       "..          ...               ...   \n",
       "160         M8X         Etobicoke   \n",
       "165         M4Y  Downtown Toronto   \n",
       "168         M7Y      East Toronto   \n",
       "169         M8Y         Etobicoke   \n",
       "178         M8Z         Etobicoke   \n",
       "\n",
       "                                         Neighbourhood  \n",
       "2                                            Parkwoods  \n",
       "3                                     Victoria Village  \n",
       "4                            Regent Park, Harbourfront  \n",
       "5                     Lawrence Manor, Lawrence Heights  \n",
       "6          Queen's Park, Ontario Provincial Government  \n",
       "..                                                 ...  \n",
       "160      The Kingsway, Montgomery Road, Old Mill North  \n",
       "165                               Church and Wellesley  \n",
       "168  Business reply mail Processing Centre, South C...  \n",
       "169  Old Mill South, King's Mill Park, Sunnylea, Hu...  \n",
       "178  Mimico NW, The Queensway West, South of Bloor,...  \n",
       "\n",
       "[103 rows x 3 columns]"
      ]
     },
     "execution_count": 6,
     "metadata": {},
     "output_type": "execute_result"
    }
   ],
   "source": [
    "#Make a new dataframe df\n",
    "df = dfs[0][dfs[0]['Borough'] != 'Not assigned'] #Select rows where Borough is NOT \"Not assigned\"\n",
    "df"
   ]
  },
  {
   "cell_type": "code",
   "execution_count": 7,
   "metadata": {},
   "outputs": [],
   "source": [
    "#Tidy up the dataframe\n",
    "df = df.reset_index(drop = True) #Reset index starting from 0"
   ]
  },
  {
   "cell_type": "code",
   "execution_count": 8,
   "metadata": {},
   "outputs": [
    {
     "data": {
      "text/html": [
       "<div>\n",
       "<style scoped>\n",
       "    .dataframe tbody tr th:only-of-type {\n",
       "        vertical-align: middle;\n",
       "    }\n",
       "\n",
       "    .dataframe tbody tr th {\n",
       "        vertical-align: top;\n",
       "    }\n",
       "\n",
       "    .dataframe thead th {\n",
       "        text-align: right;\n",
       "    }\n",
       "</style>\n",
       "<table border=\"1\" class=\"dataframe\">\n",
       "  <thead>\n",
       "    <tr style=\"text-align: right;\">\n",
       "      <th></th>\n",
       "      <th>Postal Code</th>\n",
       "      <th>Borough</th>\n",
       "      <th>Neighborhood</th>\n",
       "    </tr>\n",
       "  </thead>\n",
       "  <tbody>\n",
       "    <tr>\n",
       "      <th>0</th>\n",
       "      <td>M3A</td>\n",
       "      <td>North York</td>\n",
       "      <td>Parkwoods</td>\n",
       "    </tr>\n",
       "    <tr>\n",
       "      <th>1</th>\n",
       "      <td>M4A</td>\n",
       "      <td>North York</td>\n",
       "      <td>Victoria Village</td>\n",
       "    </tr>\n",
       "    <tr>\n",
       "      <th>2</th>\n",
       "      <td>M5A</td>\n",
       "      <td>Downtown Toronto</td>\n",
       "      <td>Regent Park, Harbourfront</td>\n",
       "    </tr>\n",
       "    <tr>\n",
       "      <th>3</th>\n",
       "      <td>M6A</td>\n",
       "      <td>North York</td>\n",
       "      <td>Lawrence Manor, Lawrence Heights</td>\n",
       "    </tr>\n",
       "    <tr>\n",
       "      <th>4</th>\n",
       "      <td>M7A</td>\n",
       "      <td>Downtown Toronto</td>\n",
       "      <td>Queen's Park, Ontario Provincial Government</td>\n",
       "    </tr>\n",
       "  </tbody>\n",
       "</table>\n",
       "</div>"
      ],
      "text/plain": [
       "  Postal Code           Borough                                 Neighborhood\n",
       "0         M3A        North York                                    Parkwoods\n",
       "1         M4A        North York                             Victoria Village\n",
       "2         M5A  Downtown Toronto                    Regent Park, Harbourfront\n",
       "3         M6A        North York             Lawrence Manor, Lawrence Heights\n",
       "4         M7A  Downtown Toronto  Queen's Park, Ontario Provincial Government"
      ]
     },
     "execution_count": 8,
     "metadata": {},
     "output_type": "execute_result"
    }
   ],
   "source": [
    "#Tidy up the dataframe\n",
    "df = df.rename(columns = {'Neighbourhood': 'Neighborhood'}) #Rename column Neighborhood\n",
    "df.head(5)"
   ]
  },
  {
   "cell_type": "markdown",
   "metadata": {},
   "source": [
    "2nd: Extract Geographical data given by IBM at “Applied Data Science Capstone” course\n",
    "http://cocl.us/Geospatial_data "
   ]
  },
  {
   "cell_type": "code",
   "execution_count": 9,
   "metadata": {},
   "outputs": [
    {
     "data": {
      "text/html": [
       "<div>\n",
       "<style scoped>\n",
       "    .dataframe tbody tr th:only-of-type {\n",
       "        vertical-align: middle;\n",
       "    }\n",
       "\n",
       "    .dataframe tbody tr th {\n",
       "        vertical-align: top;\n",
       "    }\n",
       "\n",
       "    .dataframe thead th {\n",
       "        text-align: right;\n",
       "    }\n",
       "</style>\n",
       "<table border=\"1\" class=\"dataframe\">\n",
       "  <thead>\n",
       "    <tr style=\"text-align: right;\">\n",
       "      <th></th>\n",
       "      <th>Postal Code</th>\n",
       "      <th>Latitude</th>\n",
       "      <th>Longitude</th>\n",
       "    </tr>\n",
       "  </thead>\n",
       "  <tbody>\n",
       "    <tr>\n",
       "      <th>0</th>\n",
       "      <td>M1B</td>\n",
       "      <td>43.806686</td>\n",
       "      <td>-79.194353</td>\n",
       "    </tr>\n",
       "    <tr>\n",
       "      <th>1</th>\n",
       "      <td>M1C</td>\n",
       "      <td>43.784535</td>\n",
       "      <td>-79.160497</td>\n",
       "    </tr>\n",
       "    <tr>\n",
       "      <th>2</th>\n",
       "      <td>M1E</td>\n",
       "      <td>43.763573</td>\n",
       "      <td>-79.188711</td>\n",
       "    </tr>\n",
       "    <tr>\n",
       "      <th>3</th>\n",
       "      <td>M1G</td>\n",
       "      <td>43.770992</td>\n",
       "      <td>-79.216917</td>\n",
       "    </tr>\n",
       "    <tr>\n",
       "      <th>4</th>\n",
       "      <td>M1H</td>\n",
       "      <td>43.773136</td>\n",
       "      <td>-79.239476</td>\n",
       "    </tr>\n",
       "    <tr>\n",
       "      <th>...</th>\n",
       "      <td>...</td>\n",
       "      <td>...</td>\n",
       "      <td>...</td>\n",
       "    </tr>\n",
       "    <tr>\n",
       "      <th>98</th>\n",
       "      <td>M9N</td>\n",
       "      <td>43.706876</td>\n",
       "      <td>-79.518188</td>\n",
       "    </tr>\n",
       "    <tr>\n",
       "      <th>99</th>\n",
       "      <td>M9P</td>\n",
       "      <td>43.696319</td>\n",
       "      <td>-79.532242</td>\n",
       "    </tr>\n",
       "    <tr>\n",
       "      <th>100</th>\n",
       "      <td>M9R</td>\n",
       "      <td>43.688905</td>\n",
       "      <td>-79.554724</td>\n",
       "    </tr>\n",
       "    <tr>\n",
       "      <th>101</th>\n",
       "      <td>M9V</td>\n",
       "      <td>43.739416</td>\n",
       "      <td>-79.588437</td>\n",
       "    </tr>\n",
       "    <tr>\n",
       "      <th>102</th>\n",
       "      <td>M9W</td>\n",
       "      <td>43.706748</td>\n",
       "      <td>-79.594054</td>\n",
       "    </tr>\n",
       "  </tbody>\n",
       "</table>\n",
       "<p>103 rows × 3 columns</p>\n",
       "</div>"
      ],
      "text/plain": [
       "    Postal Code   Latitude  Longitude\n",
       "0           M1B  43.806686 -79.194353\n",
       "1           M1C  43.784535 -79.160497\n",
       "2           M1E  43.763573 -79.188711\n",
       "3           M1G  43.770992 -79.216917\n",
       "4           M1H  43.773136 -79.239476\n",
       "..          ...        ...        ...\n",
       "98          M9N  43.706876 -79.518188\n",
       "99          M9P  43.696319 -79.532242\n",
       "100         M9R  43.688905 -79.554724\n",
       "101         M9V  43.739416 -79.588437\n",
       "102         M9W  43.706748 -79.594054\n",
       "\n",
       "[103 rows x 3 columns]"
      ]
     },
     "execution_count": 9,
     "metadata": {},
     "output_type": "execute_result"
    }
   ],
   "source": [
    "#Get geographical coordinates of each postal code; in CSV file\n",
    "df1 = pd.read_csv('http://cocl.us/Geospatial_data')\n",
    "df1"
   ]
  },
  {
   "cell_type": "code",
   "execution_count": 10,
   "metadata": {},
   "outputs": [
    {
     "data": {
      "text/html": [
       "<div>\n",
       "<style scoped>\n",
       "    .dataframe tbody tr th:only-of-type {\n",
       "        vertical-align: middle;\n",
       "    }\n",
       "\n",
       "    .dataframe tbody tr th {\n",
       "        vertical-align: top;\n",
       "    }\n",
       "\n",
       "    .dataframe thead th {\n",
       "        text-align: right;\n",
       "    }\n",
       "</style>\n",
       "<table border=\"1\" class=\"dataframe\">\n",
       "  <thead>\n",
       "    <tr style=\"text-align: right;\">\n",
       "      <th></th>\n",
       "      <th>Postal Code</th>\n",
       "      <th>Borough</th>\n",
       "      <th>Neighborhood</th>\n",
       "      <th>Latitude</th>\n",
       "      <th>Longitude</th>\n",
       "    </tr>\n",
       "  </thead>\n",
       "  <tbody>\n",
       "    <tr>\n",
       "      <th>0</th>\n",
       "      <td>M3A</td>\n",
       "      <td>North York</td>\n",
       "      <td>Parkwoods</td>\n",
       "      <td>43.753259</td>\n",
       "      <td>-79.329656</td>\n",
       "    </tr>\n",
       "    <tr>\n",
       "      <th>1</th>\n",
       "      <td>M4A</td>\n",
       "      <td>North York</td>\n",
       "      <td>Victoria Village</td>\n",
       "      <td>43.725882</td>\n",
       "      <td>-79.315572</td>\n",
       "    </tr>\n",
       "    <tr>\n",
       "      <th>2</th>\n",
       "      <td>M5A</td>\n",
       "      <td>Downtown Toronto</td>\n",
       "      <td>Regent Park, Harbourfront</td>\n",
       "      <td>43.654260</td>\n",
       "      <td>-79.360636</td>\n",
       "    </tr>\n",
       "    <tr>\n",
       "      <th>3</th>\n",
       "      <td>M6A</td>\n",
       "      <td>North York</td>\n",
       "      <td>Lawrence Manor, Lawrence Heights</td>\n",
       "      <td>43.718518</td>\n",
       "      <td>-79.464763</td>\n",
       "    </tr>\n",
       "    <tr>\n",
       "      <th>4</th>\n",
       "      <td>M7A</td>\n",
       "      <td>Downtown Toronto</td>\n",
       "      <td>Queen's Park, Ontario Provincial Government</td>\n",
       "      <td>43.662301</td>\n",
       "      <td>-79.389494</td>\n",
       "    </tr>\n",
       "  </tbody>\n",
       "</table>\n",
       "</div>"
      ],
      "text/plain": [
       "  Postal Code           Borough                                 Neighborhood  \\\n",
       "0         M3A        North York                                    Parkwoods   \n",
       "1         M4A        North York                             Victoria Village   \n",
       "2         M5A  Downtown Toronto                    Regent Park, Harbourfront   \n",
       "3         M6A        North York             Lawrence Manor, Lawrence Heights   \n",
       "4         M7A  Downtown Toronto  Queen's Park, Ontario Provincial Government   \n",
       "\n",
       "    Latitude  Longitude  \n",
       "0  43.753259 -79.329656  \n",
       "1  43.725882 -79.315572  \n",
       "2  43.654260 -79.360636  \n",
       "3  43.718518 -79.464763  \n",
       "4  43.662301 -79.389494  "
      ]
     },
     "execution_count": 10,
     "metadata": {},
     "output_type": "execute_result"
    }
   ],
   "source": [
    "#Merge 2 dataframes anchoring 'Postal Code'\n",
    "#Use how='inner' so as to get Postal Code which are present in both df and df1\n",
    "df2 = pd.merge(df, df1, how='inner', on='Postal Code')\n",
    "df2.head()"
   ]
  },
  {
   "cell_type": "markdown",
   "metadata": {},
   "source": [
    "3rd: Get latest geo-data from various libraries, including:\n",
    "* Geopy: to get the latitude and longitude values of Toronto\n",
    "* Folium: to Create a map of Toronto with neighborhoods superimposed on top for visualization analysis\n",
    "* Foursquare API: to get location data, i.e. name of venues, respective categories, neighborhood, location coordinates for later analysis\n",
    "\n",
    "And generate maps to visualize the neighborhoods"
   ]
  },
  {
   "cell_type": "code",
   "execution_count": 11,
   "metadata": {},
   "outputs": [
    {
     "name": "stdout",
     "output_type": "stream",
     "text": [
      "Libraries imported.\n"
     ]
    }
   ],
   "source": [
    "#!conda install -c conda-forge geopy --yes # uncomment this line if you haven't completed the Foursquare API lab\n",
    "from geopy.geocoders import Nominatim # convert an address into latitude and longitude values\n",
    "\n",
    "#!conda install -c conda-forge folium=0.5.0 --yes # uncomment this line if you haven't completed the Foursquare API lab\n",
    "import folium # map rendering library\n",
    "import json # library to handle JSON files\n",
    "import requests # library to handle requests\n",
    "\n",
    "#Import needed libraries\n",
    "import numpy as np # library to handle data in a vectorized manner\n",
    "from pandas.io.json import json_normalize # tranform JSON file into a pandas dataframe\n",
    "\n",
    "# Matplotlib and associated plotting modules\n",
    "import matplotlib.pyplot as plt\n",
    "\n",
    "print('Libraries imported.')"
   ]
  },
  {
   "cell_type": "markdown",
   "metadata": {},
   "source": [
    "Use geopy library to get the latitude and longitude values of Toronto."
   ]
  },
  {
   "cell_type": "code",
   "execution_count": 12,
   "metadata": {},
   "outputs": [
    {
     "name": "stdout",
     "output_type": "stream",
     "text": [
      "The geograpical coordinate of Toronto are 43.6534817, -79.3839347.\n"
     ]
    }
   ],
   "source": [
    "address = 'Toronto, ON'\n",
    "\n",
    "geolocator = Nominatim(user_agent=\"toronto_explorer\")\n",
    "location = geolocator.geocode(address)\n",
    "latitude = location.latitude\n",
    "longitude = location.longitude\n",
    "print('The geograpical coordinate of Toronto are {}, {}.'.format(latitude, longitude))"
   ]
  },
  {
   "cell_type": "markdown",
   "metadata": {},
   "source": [
    "To simplify the analysis, we will emphasize the key and downtown areas in Toronto. Therefore, we will screen boroughs with Toronto. Namely, these key boroughs are:\n",
    "* Downtown Toronto\n",
    "* East Toronto\n",
    "* West Toronto\n",
    "* Central Toronto"
   ]
  },
  {
   "cell_type": "code",
   "execution_count": 13,
   "metadata": {},
   "outputs": [
    {
     "data": {
      "text/html": [
       "<div>\n",
       "<style scoped>\n",
       "    .dataframe tbody tr th:only-of-type {\n",
       "        vertical-align: middle;\n",
       "    }\n",
       "\n",
       "    .dataframe tbody tr th {\n",
       "        vertical-align: top;\n",
       "    }\n",
       "\n",
       "    .dataframe thead th {\n",
       "        text-align: right;\n",
       "    }\n",
       "</style>\n",
       "<table border=\"1\" class=\"dataframe\">\n",
       "  <thead>\n",
       "    <tr style=\"text-align: right;\">\n",
       "      <th></th>\n",
       "      <th>Borough</th>\n",
       "    </tr>\n",
       "  </thead>\n",
       "  <tbody>\n",
       "    <tr>\n",
       "      <th>Downtown Toronto</th>\n",
       "      <td>19</td>\n",
       "    </tr>\n",
       "    <tr>\n",
       "      <th>Central Toronto</th>\n",
       "      <td>9</td>\n",
       "    </tr>\n",
       "    <tr>\n",
       "      <th>West Toronto</th>\n",
       "      <td>6</td>\n",
       "    </tr>\n",
       "    <tr>\n",
       "      <th>East Toronto</th>\n",
       "      <td>5</td>\n",
       "    </tr>\n",
       "  </tbody>\n",
       "</table>\n",
       "</div>"
      ],
      "text/plain": [
       "                  Borough\n",
       "Downtown Toronto       19\n",
       "Central Toronto         9\n",
       "West Toronto            6\n",
       "East Toronto            5"
      ]
     },
     "execution_count": 13,
     "metadata": {},
     "output_type": "execute_result"
    }
   ],
   "source": [
    "#Make a new dataframe for analysis\n",
    "neighborhoods = df2[df2['Borough'].str.contains(\"Toronto\")] #Focus on borough which contains Toronto\n",
    "neighborhoods['Borough'].value_counts(dropna= False).to_frame()"
   ]
  },
  {
   "cell_type": "code",
   "execution_count": 14,
   "metadata": {},
   "outputs": [
    {
     "data": {
      "text/html": [
       "<div>\n",
       "<style scoped>\n",
       "    .dataframe tbody tr th:only-of-type {\n",
       "        vertical-align: middle;\n",
       "    }\n",
       "\n",
       "    .dataframe tbody tr th {\n",
       "        vertical-align: top;\n",
       "    }\n",
       "\n",
       "    .dataframe thead th {\n",
       "        text-align: right;\n",
       "    }\n",
       "</style>\n",
       "<table border=\"1\" class=\"dataframe\">\n",
       "  <thead>\n",
       "    <tr style=\"text-align: right;\">\n",
       "      <th></th>\n",
       "      <th>Postal Code</th>\n",
       "      <th>Borough</th>\n",
       "      <th>Neighborhood</th>\n",
       "      <th>Latitude</th>\n",
       "      <th>Longitude</th>\n",
       "    </tr>\n",
       "  </thead>\n",
       "  <tbody>\n",
       "    <tr>\n",
       "      <th>0</th>\n",
       "      <td>M5A</td>\n",
       "      <td>Downtown Toronto</td>\n",
       "      <td>Regent Park, Harbourfront</td>\n",
       "      <td>43.654260</td>\n",
       "      <td>-79.360636</td>\n",
       "    </tr>\n",
       "    <tr>\n",
       "      <th>1</th>\n",
       "      <td>M7A</td>\n",
       "      <td>Downtown Toronto</td>\n",
       "      <td>Queen's Park, Ontario Provincial Government</td>\n",
       "      <td>43.662301</td>\n",
       "      <td>-79.389494</td>\n",
       "    </tr>\n",
       "    <tr>\n",
       "      <th>2</th>\n",
       "      <td>M5B</td>\n",
       "      <td>Downtown Toronto</td>\n",
       "      <td>Garden District, Ryerson</td>\n",
       "      <td>43.657162</td>\n",
       "      <td>-79.378937</td>\n",
       "    </tr>\n",
       "    <tr>\n",
       "      <th>3</th>\n",
       "      <td>M5C</td>\n",
       "      <td>Downtown Toronto</td>\n",
       "      <td>St. James Town</td>\n",
       "      <td>43.651494</td>\n",
       "      <td>-79.375418</td>\n",
       "    </tr>\n",
       "    <tr>\n",
       "      <th>4</th>\n",
       "      <td>M4E</td>\n",
       "      <td>East Toronto</td>\n",
       "      <td>The Beaches</td>\n",
       "      <td>43.676357</td>\n",
       "      <td>-79.293031</td>\n",
       "    </tr>\n",
       "  </tbody>\n",
       "</table>\n",
       "</div>"
      ],
      "text/plain": [
       "  Postal Code           Borough                                 Neighborhood  \\\n",
       "0         M5A  Downtown Toronto                    Regent Park, Harbourfront   \n",
       "1         M7A  Downtown Toronto  Queen's Park, Ontario Provincial Government   \n",
       "2         M5B  Downtown Toronto                     Garden District, Ryerson   \n",
       "3         M5C  Downtown Toronto                               St. James Town   \n",
       "4         M4E      East Toronto                                  The Beaches   \n",
       "\n",
       "    Latitude  Longitude  \n",
       "0  43.654260 -79.360636  \n",
       "1  43.662301 -79.389494  \n",
       "2  43.657162 -79.378937  \n",
       "3  43.651494 -79.375418  \n",
       "4  43.676357 -79.293031  "
      ]
     },
     "execution_count": 14,
     "metadata": {},
     "output_type": "execute_result"
    }
   ],
   "source": [
    "#Edit dataframe for analysis\n",
    "neighborhoods = neighborhoods.reset_index(drop=True) #Reset index starting from 0\n",
    "neighborhoods.head(5)"
   ]
  },
  {
   "cell_type": "markdown",
   "metadata": {},
   "source": [
    "Use Folium and create a map of Toronto with neighborhoods superimposed on top."
   ]
  },
  {
   "cell_type": "code",
   "execution_count": 15,
   "metadata": {},
   "outputs": [
    {
     "data": {
      "text/html": [
       "<div style=\"width:100%;\"><div style=\"position:relative;width:100%;height:0;padding-bottom:60%;\"><span style=\"color:#565656\">Make this Notebook Trusted to load map: File -> Trust Notebook</span><iframe src=\"about:blank\" style=\"position:absolute;width:100%;height:100%;left:0;top:0;border:none !important;\" data-html=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 onload=\"this.contentDocument.open();this.contentDocument.write(atob(this.getAttribute('data-html')));this.contentDocument.close();\" allowfullscreen webkitallowfullscreen mozallowfullscreen></iframe></div></div>"
      ],
      "text/plain": [
       "<folium.folium.Map at 0x1f06621d310>"
      ]
     },
     "execution_count": 15,
     "metadata": {},
     "output_type": "execute_result"
    }
   ],
   "source": [
    "#Create map of Toronto using latitude and longitude values\n",
    "map_toronto = folium.Map(location=[latitude, longitude], zoom_start=11)\n",
    "\n",
    "#Add neighborhoods' markers to map\n",
    "for lat, lng, borough, neighborhood in zip(neighborhoods['Latitude'], neighborhoods['Longitude'], neighborhoods['Borough'], neighborhoods['Neighborhood']):\n",
    "    label = '{}, {}'.format(neighborhood, borough)\n",
    "    label = folium.Popup(label, parse_html=True)\n",
    "    folium.CircleMarker(\n",
    "        [lat, lng],\n",
    "        radius=5,\n",
    "        popup=label,\n",
    "        color='blue',\n",
    "        fill=True,\n",
    "        fill_color='#3186cc',\n",
    "        fill_opacity=0.7,\n",
    "        parse_html=False).add_to(map_toronto)  \n",
    "    \n",
    "map_toronto"
   ]
  },
  {
   "cell_type": "markdown",
   "metadata": {},
   "source": [
    "Use Foursquare and define its Credentials and Version"
   ]
  },
  {
   "cell_type": "code",
   "execution_count": 41,
   "metadata": {},
   "outputs": [
    {
     "name": "stdout",
     "output_type": "stream",
     "text": [
      "Your credentails:\n",
      "CLIENT_ID: DUMMY\n",
      "CLIENT_SECRET:DUMMY\n"
     ]
    }
   ],
   "source": [
    "CLIENT_ID = 'DUMMY' # your Foursquare ID\n",
    "CLIENT_SECRET = 'DUMMY' # your Foursquare Secret\n",
    "VERSION = '20201212' # Foursquare API version\n",
    "LIMIT = 100 # A default Foursquare API limit value\n",
    "\n",
    "print('Your credentails:')\n",
    "print('CLIENT_ID: ' + CLIENT_ID)\n",
    "print('CLIENT_SECRET:' + CLIENT_SECRET)"
   ]
  },
  {
   "cell_type": "markdown",
   "metadata": {},
   "source": [
    "Explore the first neighborhood (N0) in the dataframe.\n"
   ]
  },
  {
   "cell_type": "code",
   "execution_count": 17,
   "metadata": {},
   "outputs": [
    {
     "name": "stdout",
     "output_type": "stream",
     "text": [
      "Regent Park, Harbourfront\n"
     ]
    }
   ],
   "source": [
    "#Get 1st neighbor in the dataframe\n",
    "N0 = neighborhoods.loc[0, 'Neighborhood']\n",
    "print(N0)"
   ]
  },
  {
   "cell_type": "code",
   "execution_count": 18,
   "metadata": {},
   "outputs": [
    {
     "name": "stdout",
     "output_type": "stream",
     "text": [
      "Latitude and longitude values of Regent Park, Harbourfront are 43.6542599, -79.3606359.\n"
     ]
    }
   ],
   "source": [
    "#Get the neighborhood's latitude and longitude values\n",
    "neighborhood_latitude = neighborhoods.loc[0, 'Latitude'] # neighborhood latitude value\n",
    "neighborhood_longitude = neighborhoods.loc[0, 'Longitude'] # neighborhood longitude value\n",
    "neighborhood_name = neighborhoods.loc[0, 'Neighborhood'] # neighborhood name\n",
    "\n",
    "print('Latitude and longitude values of {} are {}, {}.'.format(neighborhood_name, \n",
    "                                                               neighborhood_latitude, \n",
    "                                                               neighborhood_longitude))"
   ]
  },
  {
   "cell_type": "markdown",
   "metadata": {},
   "source": [
    "Get the top 100 venues that are in first neighborhood (N0) within a radius of 500 meters.\n"
   ]
  },
  {
   "cell_type": "code",
   "execution_count": 42,
   "metadata": {},
   "outputs": [
    {
     "data": {
      "text/plain": [
       "'https://api.foursquare.com/v2/venues/explore?&client_id=DUMMY&client_secret=DUMMY&v=20201212&ll=43.6542599,-79.3606359&radius=500&limit=100'"
      ]
     },
     "execution_count": 42,
     "metadata": {},
     "output_type": "execute_result"
    }
   ],
   "source": [
    "#Create the GET request URL; name it url\n",
    "LIMIT = 100 # limit of number of venues returned by Foursquare API\n",
    "radius = 500 # define radius\n",
    "# create URL\n",
    "url = 'https://api.foursquare.com/v2/venues/explore?&client_id={}&client_secret={}&v={}&ll={},{}&radius={}&limit={}'.format(\n",
    "    CLIENT_ID, \n",
    "    CLIENT_SECRET, \n",
    "    VERSION, \n",
    "    neighborhood_latitude, \n",
    "    neighborhood_longitude, \n",
    "    radius, \n",
    "    LIMIT)\n",
    "url # display URL"
   ]
  },
  {
   "cell_type": "code",
   "execution_count": 20,
   "metadata": {},
   "outputs": [],
   "source": [
    "#Send the GET request and examine the resutls\n",
    "results = requests.get(url).json()\n",
    "#results"
   ]
  },
  {
   "cell_type": "code",
   "execution_count": 21,
   "metadata": {},
   "outputs": [],
   "source": [
    "# function that extracts the category of the venue\n",
    "def get_category_type(row):\n",
    "    try:\n",
    "        categories_list = row['categories']\n",
    "    except:\n",
    "        categories_list = row['venue.categories']\n",
    "        \n",
    "    if len(categories_list) == 0:\n",
    "        return None\n",
    "    else:\n",
    "        return categories_list[0]['name']"
   ]
  },
  {
   "cell_type": "markdown",
   "metadata": {},
   "source": [
    "Clean the json and structure it into a pandas dataframe"
   ]
  },
  {
   "cell_type": "code",
   "execution_count": 22,
   "metadata": {},
   "outputs": [],
   "source": [
    "venues = results['response']['groups'][0]['items']\n",
    "    \n",
    "nearby_venues = pd.json_normalize(venues) # flatten JSON\n",
    "\n",
    "# filter columns\n",
    "filtered_columns = ['venue.name', 'venue.categories', 'venue.location.lat', 'venue.location.lng']\n",
    "nearby_venues =nearby_venues.loc[:, filtered_columns]\n",
    "\n",
    "# filter the category for each row\n",
    "nearby_venues['venue.categories'] = nearby_venues.apply(get_category_type, axis=1)\n",
    "\n",
    "# clean columns\n",
    "nearby_venues.columns = [col.split(\".\")[-1] for col in nearby_venues.columns]"
   ]
  },
  {
   "cell_type": "code",
   "execution_count": 23,
   "metadata": {},
   "outputs": [
    {
     "name": "stdout",
     "output_type": "stream",
     "text": [
      "44 venues were returned by Foursquare.\n"
     ]
    }
   ],
   "source": [
    "print('{} venues were returned by Foursquare.'.format(nearby_venues.shape[0]))"
   ]
  },
  {
   "cell_type": "markdown",
   "metadata": {},
   "source": [
    "## 3. Methodology"
   ]
  },
  {
   "cell_type": "markdown",
   "metadata": {},
   "source": [
    "### Explore neighborhoods in a part of Toronto City"
   ]
  },
  {
   "cell_type": "code",
   "execution_count": 24,
   "metadata": {},
   "outputs": [],
   "source": [
    "def getNearbyVenues(names, latitudes, longitudes, radius=500):\n",
    "    venues_list=[]\n",
    "    \n",
    "    for name, lat, lng in zip(names, latitudes, longitudes):\n",
    "        # print(name)\n",
    "            \n",
    "        # create the API request URL\n",
    "        url = 'https://api.foursquare.com/v2/venues/explore?&client_id={}&client_secret={}&v={}&ll={},{}&radius={}&limit={}'.format(\n",
    "            CLIENT_ID, \n",
    "            CLIENT_SECRET, \n",
    "            VERSION, \n",
    "            lat, \n",
    "            lng, \n",
    "            radius, \n",
    "            LIMIT)\n",
    "            \n",
    "        # make the GET request\n",
    "        results = requests.get(url).json()[\"response\"]['groups'][0]['items']\n",
    "        \n",
    "        # return only relevant information for each nearby venue\n",
    "        venues_list.append([(\n",
    "            name, \n",
    "            lat, \n",
    "            lng, \n",
    "            v['venue']['name'], \n",
    "            v['venue']['location']['lat'], \n",
    "            v['venue']['location']['lng'],  \n",
    "            v['venue']['categories'][0]['name']) for v in results])\n",
    " \n",
    "    nearby_venues = pd.DataFrame([item for venue_list in venues_list for item in venue_list])\n",
    "    nearby_venues.columns = ['Neighborhood', \n",
    "                  'Neighborhood Latitude', \n",
    "                  'Neighborhood Longitude', \n",
    "                  'Venue', \n",
    "                  'Venue Latitude', \n",
    "                  'Venue Longitude', \n",
    "                  'Venue Category']\n",
    "    \n",
    "    return(nearby_venues)"
   ]
  },
  {
   "cell_type": "code",
   "execution_count": 25,
   "metadata": {},
   "outputs": [
    {
     "data": {
      "text/html": [
       "<div>\n",
       "<style scoped>\n",
       "    .dataframe tbody tr th:only-of-type {\n",
       "        vertical-align: middle;\n",
       "    }\n",
       "\n",
       "    .dataframe tbody tr th {\n",
       "        vertical-align: top;\n",
       "    }\n",
       "\n",
       "    .dataframe thead th {\n",
       "        text-align: right;\n",
       "    }\n",
       "</style>\n",
       "<table border=\"1\" class=\"dataframe\">\n",
       "  <thead>\n",
       "    <tr style=\"text-align: right;\">\n",
       "      <th></th>\n",
       "      <th>Neighborhood</th>\n",
       "      <th>Neighborhood Latitude</th>\n",
       "      <th>Neighborhood Longitude</th>\n",
       "      <th>Venue</th>\n",
       "      <th>Venue Latitude</th>\n",
       "      <th>Venue Longitude</th>\n",
       "      <th>Venue Category</th>\n",
       "    </tr>\n",
       "  </thead>\n",
       "  <tbody>\n",
       "    <tr>\n",
       "      <th>0</th>\n",
       "      <td>Regent Park, Harbourfront</td>\n",
       "      <td>43.654260</td>\n",
       "      <td>-79.360636</td>\n",
       "      <td>Roselle Desserts</td>\n",
       "      <td>43.653447</td>\n",
       "      <td>-79.362017</td>\n",
       "      <td>Bakery</td>\n",
       "    </tr>\n",
       "    <tr>\n",
       "      <th>1</th>\n",
       "      <td>Regent Park, Harbourfront</td>\n",
       "      <td>43.654260</td>\n",
       "      <td>-79.360636</td>\n",
       "      <td>Tandem Coffee</td>\n",
       "      <td>43.653559</td>\n",
       "      <td>-79.361809</td>\n",
       "      <td>Coffee Shop</td>\n",
       "    </tr>\n",
       "    <tr>\n",
       "      <th>2</th>\n",
       "      <td>Regent Park, Harbourfront</td>\n",
       "      <td>43.654260</td>\n",
       "      <td>-79.360636</td>\n",
       "      <td>Cooper Koo Family YMCA</td>\n",
       "      <td>43.653249</td>\n",
       "      <td>-79.358008</td>\n",
       "      <td>Distribution Center</td>\n",
       "    </tr>\n",
       "    <tr>\n",
       "      <th>3</th>\n",
       "      <td>Regent Park, Harbourfront</td>\n",
       "      <td>43.654260</td>\n",
       "      <td>-79.360636</td>\n",
       "      <td>Body Blitz Spa East</td>\n",
       "      <td>43.654735</td>\n",
       "      <td>-79.359874</td>\n",
       "      <td>Spa</td>\n",
       "    </tr>\n",
       "    <tr>\n",
       "      <th>4</th>\n",
       "      <td>Regent Park, Harbourfront</td>\n",
       "      <td>43.654260</td>\n",
       "      <td>-79.360636</td>\n",
       "      <td>Impact Kitchen</td>\n",
       "      <td>43.656369</td>\n",
       "      <td>-79.356980</td>\n",
       "      <td>Restaurant</td>\n",
       "    </tr>\n",
       "    <tr>\n",
       "      <th>...</th>\n",
       "      <td>...</td>\n",
       "      <td>...</td>\n",
       "      <td>...</td>\n",
       "      <td>...</td>\n",
       "      <td>...</td>\n",
       "      <td>...</td>\n",
       "      <td>...</td>\n",
       "    </tr>\n",
       "    <tr>\n",
       "      <th>1619</th>\n",
       "      <td>Business reply mail Processing Centre, South C...</td>\n",
       "      <td>43.662744</td>\n",
       "      <td>-79.321558</td>\n",
       "      <td>TTC Russell Division</td>\n",
       "      <td>43.664908</td>\n",
       "      <td>-79.322560</td>\n",
       "      <td>Light Rail Station</td>\n",
       "    </tr>\n",
       "    <tr>\n",
       "      <th>1620</th>\n",
       "      <td>Business reply mail Processing Centre, South C...</td>\n",
       "      <td>43.662744</td>\n",
       "      <td>-79.321558</td>\n",
       "      <td>Jonathan Ashbridge Park</td>\n",
       "      <td>43.664702</td>\n",
       "      <td>-79.319898</td>\n",
       "      <td>Park</td>\n",
       "    </tr>\n",
       "    <tr>\n",
       "      <th>1621</th>\n",
       "      <td>Business reply mail Processing Centre, South C...</td>\n",
       "      <td>43.662744</td>\n",
       "      <td>-79.321558</td>\n",
       "      <td>Olliffe On Queen</td>\n",
       "      <td>43.664503</td>\n",
       "      <td>-79.324768</td>\n",
       "      <td>Butcher</td>\n",
       "    </tr>\n",
       "    <tr>\n",
       "      <th>1622</th>\n",
       "      <td>Business reply mail Processing Centre, South C...</td>\n",
       "      <td>43.662744</td>\n",
       "      <td>-79.321558</td>\n",
       "      <td>ONE Academy</td>\n",
       "      <td>43.662253</td>\n",
       "      <td>-79.326911</td>\n",
       "      <td>Gym / Fitness Center</td>\n",
       "    </tr>\n",
       "    <tr>\n",
       "      <th>1623</th>\n",
       "      <td>Business reply mail Processing Centre, South C...</td>\n",
       "      <td>43.662744</td>\n",
       "      <td>-79.321558</td>\n",
       "      <td>Revolution Recording</td>\n",
       "      <td>43.662561</td>\n",
       "      <td>-79.326940</td>\n",
       "      <td>Recording Studio</td>\n",
       "    </tr>\n",
       "  </tbody>\n",
       "</table>\n",
       "<p>1624 rows × 7 columns</p>\n",
       "</div>"
      ],
      "text/plain": [
       "                                           Neighborhood  \\\n",
       "0                             Regent Park, Harbourfront   \n",
       "1                             Regent Park, Harbourfront   \n",
       "2                             Regent Park, Harbourfront   \n",
       "3                             Regent Park, Harbourfront   \n",
       "4                             Regent Park, Harbourfront   \n",
       "...                                                 ...   \n",
       "1619  Business reply mail Processing Centre, South C...   \n",
       "1620  Business reply mail Processing Centre, South C...   \n",
       "1621  Business reply mail Processing Centre, South C...   \n",
       "1622  Business reply mail Processing Centre, South C...   \n",
       "1623  Business reply mail Processing Centre, South C...   \n",
       "\n",
       "      Neighborhood Latitude  Neighborhood Longitude                    Venue  \\\n",
       "0                 43.654260              -79.360636         Roselle Desserts   \n",
       "1                 43.654260              -79.360636            Tandem Coffee   \n",
       "2                 43.654260              -79.360636   Cooper Koo Family YMCA   \n",
       "3                 43.654260              -79.360636      Body Blitz Spa East   \n",
       "4                 43.654260              -79.360636           Impact Kitchen   \n",
       "...                     ...                     ...                      ...   \n",
       "1619              43.662744              -79.321558     TTC Russell Division   \n",
       "1620              43.662744              -79.321558  Jonathan Ashbridge Park   \n",
       "1621              43.662744              -79.321558         Olliffe On Queen   \n",
       "1622              43.662744              -79.321558              ONE Academy   \n",
       "1623              43.662744              -79.321558     Revolution Recording   \n",
       "\n",
       "      Venue Latitude  Venue Longitude        Venue Category  \n",
       "0          43.653447       -79.362017                Bakery  \n",
       "1          43.653559       -79.361809           Coffee Shop  \n",
       "2          43.653249       -79.358008   Distribution Center  \n",
       "3          43.654735       -79.359874                   Spa  \n",
       "4          43.656369       -79.356980            Restaurant  \n",
       "...              ...              ...                   ...  \n",
       "1619       43.664908       -79.322560    Light Rail Station  \n",
       "1620       43.664702       -79.319898                  Park  \n",
       "1621       43.664503       -79.324768               Butcher  \n",
       "1622       43.662253       -79.326911  Gym / Fitness Center  \n",
       "1623       43.662561       -79.326940      Recording Studio  \n",
       "\n",
       "[1624 rows x 7 columns]"
      ]
     },
     "execution_count": 25,
     "metadata": {},
     "output_type": "execute_result"
    }
   ],
   "source": [
    "neighborhoods_venues = getNearbyVenues(names=neighborhoods['Neighborhood'],\n",
    "                                       latitudes=neighborhoods['Latitude'],\n",
    "                                       longitudes=neighborhoods['Longitude'])\n",
    "neighborhoods_venues"
   ]
  },
  {
   "cell_type": "markdown",
   "metadata": {},
   "source": [
    "Add Borough back to data"
   ]
  },
  {
   "cell_type": "code",
   "execution_count": 26,
   "metadata": {},
   "outputs": [
    {
     "data": {
      "text/html": [
       "<div>\n",
       "<style scoped>\n",
       "    .dataframe tbody tr th:only-of-type {\n",
       "        vertical-align: middle;\n",
       "    }\n",
       "\n",
       "    .dataframe tbody tr th {\n",
       "        vertical-align: top;\n",
       "    }\n",
       "\n",
       "    .dataframe thead th {\n",
       "        text-align: right;\n",
       "    }\n",
       "</style>\n",
       "<table border=\"1\" class=\"dataframe\">\n",
       "  <thead>\n",
       "    <tr style=\"text-align: right;\">\n",
       "      <th></th>\n",
       "      <th>Venue Category</th>\n",
       "    </tr>\n",
       "  </thead>\n",
       "  <tbody>\n",
       "    <tr>\n",
       "      <th>Coffee Shop</th>\n",
       "      <td>158</td>\n",
       "    </tr>\n",
       "    <tr>\n",
       "      <th>Café</th>\n",
       "      <td>84</td>\n",
       "    </tr>\n",
       "    <tr>\n",
       "      <th>Restaurant</th>\n",
       "      <td>56</td>\n",
       "    </tr>\n",
       "    <tr>\n",
       "      <th>Hotel</th>\n",
       "      <td>41</td>\n",
       "    </tr>\n",
       "    <tr>\n",
       "      <th>Italian Restaurant</th>\n",
       "      <td>37</td>\n",
       "    </tr>\n",
       "    <tr>\n",
       "      <th>...</th>\n",
       "      <td>...</td>\n",
       "    </tr>\n",
       "    <tr>\n",
       "      <th>Malay Restaurant</th>\n",
       "      <td>1</td>\n",
       "    </tr>\n",
       "    <tr>\n",
       "      <th>Airport Terminal</th>\n",
       "      <td>1</td>\n",
       "    </tr>\n",
       "    <tr>\n",
       "      <th>Coworking Space</th>\n",
       "      <td>1</td>\n",
       "    </tr>\n",
       "    <tr>\n",
       "      <th>College Gym</th>\n",
       "      <td>1</td>\n",
       "    </tr>\n",
       "    <tr>\n",
       "      <th>Recording Studio</th>\n",
       "      <td>1</td>\n",
       "    </tr>\n",
       "  </tbody>\n",
       "</table>\n",
       "<p>235 rows × 1 columns</p>\n",
       "</div>"
      ],
      "text/plain": [
       "                    Venue Category\n",
       "Coffee Shop                    158\n",
       "Café                            84\n",
       "Restaurant                      56\n",
       "Hotel                           41\n",
       "Italian Restaurant              37\n",
       "...                            ...\n",
       "Malay Restaurant                 1\n",
       "Airport Terminal                 1\n",
       "Coworking Space                  1\n",
       "College Gym                      1\n",
       "Recording Studio                 1\n",
       "\n",
       "[235 rows x 1 columns]"
      ]
     },
     "execution_count": 26,
     "metadata": {},
     "output_type": "execute_result"
    }
   ],
   "source": [
    "neighborhoods_venues['Venue Category'].value_counts(dropna= False).to_frame()"
   ]
  },
  {
   "cell_type": "code",
   "execution_count": 27,
   "metadata": {},
   "outputs": [
    {
     "name": "stdout",
     "output_type": "stream",
     "text": [
      "Before selection, there are 235 unique venue categories.\n"
     ]
    }
   ],
   "source": [
    "print('Before selection, there are', len(neighborhoods_venues['Venue Category'].unique()), 'unique venue categories.')"
   ]
  },
  {
   "cell_type": "markdown",
   "metadata": {},
   "source": [
    "At first glances, we can see the location cover a very wide spectrum of venues and categories, include restaurants and café. In order to focus on “Sports & Fitness Service”, we will focus to look at related categories. They include:\n",
    "* Athletics & Sports\n",
    "* Climbing Gym\n",
    "* College Gym\n",
    "* Dance Studio\n",
    "* Gym\n",
    "* Gym / Fitness Center\n",
    "* Martial Arts School\n",
    "* Sports Bar\n",
    "* Swim School\n",
    "* Yoga Studio"
   ]
  },
  {
   "cell_type": "code",
   "execution_count": 28,
   "metadata": {},
   "outputs": [
    {
     "data": {
      "text/html": [
       "<div>\n",
       "<style scoped>\n",
       "    .dataframe tbody tr th:only-of-type {\n",
       "        vertical-align: middle;\n",
       "    }\n",
       "\n",
       "    .dataframe tbody tr th {\n",
       "        vertical-align: top;\n",
       "    }\n",
       "\n",
       "    .dataframe thead th {\n",
       "        text-align: right;\n",
       "    }\n",
       "</style>\n",
       "<table border=\"1\" class=\"dataframe\">\n",
       "  <thead>\n",
       "    <tr style=\"text-align: right;\">\n",
       "      <th></th>\n",
       "      <th>Neighborhood</th>\n",
       "      <th>Neighborhood Latitude</th>\n",
       "      <th>Neighborhood Longitude</th>\n",
       "      <th>Venue</th>\n",
       "      <th>Venue Latitude</th>\n",
       "      <th>Venue Longitude</th>\n",
       "      <th>Venue Category</th>\n",
       "    </tr>\n",
       "  </thead>\n",
       "  <tbody>\n",
       "    <tr>\n",
       "      <th>0</th>\n",
       "      <td>Regent Park, Harbourfront</td>\n",
       "      <td>43.654260</td>\n",
       "      <td>-79.360636</td>\n",
       "      <td>The Extension Room</td>\n",
       "      <td>43.653313</td>\n",
       "      <td>-79.359725</td>\n",
       "      <td>Gym / Fitness Center</td>\n",
       "    </tr>\n",
       "    <tr>\n",
       "      <th>1</th>\n",
       "      <td>Regent Park, Harbourfront</td>\n",
       "      <td>43.654260</td>\n",
       "      <td>-79.360636</td>\n",
       "      <td>The Yoga Lounge</td>\n",
       "      <td>43.655515</td>\n",
       "      <td>-79.364955</td>\n",
       "      <td>Yoga Studio</td>\n",
       "    </tr>\n",
       "    <tr>\n",
       "      <th>2</th>\n",
       "      <td>Queen's Park, Ontario Provincial Government</td>\n",
       "      <td>43.662301</td>\n",
       "      <td>-79.389494</td>\n",
       "      <td>The Yoga Sanctuary</td>\n",
       "      <td>43.661499</td>\n",
       "      <td>-79.383636</td>\n",
       "      <td>Yoga Studio</td>\n",
       "    </tr>\n",
       "    <tr>\n",
       "      <th>3</th>\n",
       "      <td>Queen's Park, Ontario Provincial Government</td>\n",
       "      <td>43.662301</td>\n",
       "      <td>-79.389494</td>\n",
       "      <td>Hart House Gym</td>\n",
       "      <td>43.664172</td>\n",
       "      <td>-79.394888</td>\n",
       "      <td>Gym</td>\n",
       "    </tr>\n",
       "    <tr>\n",
       "      <th>4</th>\n",
       "      <td>Garden District, Ryerson</td>\n",
       "      <td>43.657162</td>\n",
       "      <td>-79.378937</td>\n",
       "      <td>Hard Candy Fitness</td>\n",
       "      <td>43.659556</td>\n",
       "      <td>-79.382440</td>\n",
       "      <td>Gym / Fitness Center</td>\n",
       "    </tr>\n",
       "  </tbody>\n",
       "</table>\n",
       "</div>"
      ],
      "text/plain": [
       "                                  Neighborhood  Neighborhood Latitude  \\\n",
       "0                    Regent Park, Harbourfront              43.654260   \n",
       "1                    Regent Park, Harbourfront              43.654260   \n",
       "2  Queen's Park, Ontario Provincial Government              43.662301   \n",
       "3  Queen's Park, Ontario Provincial Government              43.662301   \n",
       "4                     Garden District, Ryerson              43.657162   \n",
       "\n",
       "   Neighborhood Longitude               Venue  Venue Latitude  \\\n",
       "0              -79.360636  The Extension Room       43.653313   \n",
       "1              -79.360636     The Yoga Lounge       43.655515   \n",
       "2              -79.389494  The Yoga Sanctuary       43.661499   \n",
       "3              -79.389494      Hart House Gym       43.664172   \n",
       "4              -79.378937  Hard Candy Fitness       43.659556   \n",
       "\n",
       "   Venue Longitude        Venue Category  \n",
       "0       -79.359725  Gym / Fitness Center  \n",
       "1       -79.364955           Yoga Studio  \n",
       "2       -79.383636           Yoga Studio  \n",
       "3       -79.394888                   Gym  \n",
       "4       -79.382440  Gym / Fitness Center  "
      ]
     },
     "execution_count": 28,
     "metadata": {},
     "output_type": "execute_result"
    }
   ],
   "source": [
    "neighborhoods_sportsvenues = neighborhoods_venues[neighborhoods_venues['Venue Category'].str.contains('Gym|Sports|Dance|Fit|Martial|Swim|Yoga')] #Focus on venue category which contains gym\n",
    "neighborhoods_sportsvenues = neighborhoods_sportsvenues.reset_index(drop=True)\n",
    "neighborhoods_sportsvenues.head()"
   ]
  },
  {
   "cell_type": "markdown",
   "metadata": {},
   "source": [
    "Remarks: For data analysis in the later stage, let’s insert back the column “Borough” into the dataset."
   ]
  },
  {
   "cell_type": "code",
   "execution_count": 29,
   "metadata": {},
   "outputs": [
    {
     "data": {
      "text/html": [
       "<div>\n",
       "<style scoped>\n",
       "    .dataframe tbody tr th:only-of-type {\n",
       "        vertical-align: middle;\n",
       "    }\n",
       "\n",
       "    .dataframe tbody tr th {\n",
       "        vertical-align: top;\n",
       "    }\n",
       "\n",
       "    .dataframe thead th {\n",
       "        text-align: right;\n",
       "    }\n",
       "</style>\n",
       "<table border=\"1\" class=\"dataframe\">\n",
       "  <thead>\n",
       "    <tr style=\"text-align: right;\">\n",
       "      <th></th>\n",
       "      <th>Neighborhood</th>\n",
       "      <th>Neighborhood Latitude</th>\n",
       "      <th>Neighborhood Longitude</th>\n",
       "      <th>Venue</th>\n",
       "      <th>Venue Latitude</th>\n",
       "      <th>Venue Longitude</th>\n",
       "      <th>Venue Category</th>\n",
       "      <th>Borough</th>\n",
       "    </tr>\n",
       "  </thead>\n",
       "  <tbody>\n",
       "    <tr>\n",
       "      <th>0</th>\n",
       "      <td>Regent Park, Harbourfront</td>\n",
       "      <td>43.654260</td>\n",
       "      <td>-79.360636</td>\n",
       "      <td>The Extension Room</td>\n",
       "      <td>43.653313</td>\n",
       "      <td>-79.359725</td>\n",
       "      <td>Gym / Fitness Center</td>\n",
       "      <td>Downtown Toronto</td>\n",
       "    </tr>\n",
       "    <tr>\n",
       "      <th>1</th>\n",
       "      <td>Regent Park, Harbourfront</td>\n",
       "      <td>43.654260</td>\n",
       "      <td>-79.360636</td>\n",
       "      <td>The Yoga Lounge</td>\n",
       "      <td>43.655515</td>\n",
       "      <td>-79.364955</td>\n",
       "      <td>Yoga Studio</td>\n",
       "      <td>Downtown Toronto</td>\n",
       "    </tr>\n",
       "    <tr>\n",
       "      <th>2</th>\n",
       "      <td>Queen's Park, Ontario Provincial Government</td>\n",
       "      <td>43.662301</td>\n",
       "      <td>-79.389494</td>\n",
       "      <td>The Yoga Sanctuary</td>\n",
       "      <td>43.661499</td>\n",
       "      <td>-79.383636</td>\n",
       "      <td>Yoga Studio</td>\n",
       "      <td>Downtown Toronto</td>\n",
       "    </tr>\n",
       "    <tr>\n",
       "      <th>3</th>\n",
       "      <td>Queen's Park, Ontario Provincial Government</td>\n",
       "      <td>43.662301</td>\n",
       "      <td>-79.389494</td>\n",
       "      <td>Hart House Gym</td>\n",
       "      <td>43.664172</td>\n",
       "      <td>-79.394888</td>\n",
       "      <td>Gym</td>\n",
       "      <td>Downtown Toronto</td>\n",
       "    </tr>\n",
       "    <tr>\n",
       "      <th>4</th>\n",
       "      <td>Garden District, Ryerson</td>\n",
       "      <td>43.657162</td>\n",
       "      <td>-79.378937</td>\n",
       "      <td>Hard Candy Fitness</td>\n",
       "      <td>43.659556</td>\n",
       "      <td>-79.382440</td>\n",
       "      <td>Gym / Fitness Center</td>\n",
       "      <td>Downtown Toronto</td>\n",
       "    </tr>\n",
       "  </tbody>\n",
       "</table>\n",
       "</div>"
      ],
      "text/plain": [
       "                                  Neighborhood  Neighborhood Latitude  \\\n",
       "0                    Regent Park, Harbourfront              43.654260   \n",
       "1                    Regent Park, Harbourfront              43.654260   \n",
       "2  Queen's Park, Ontario Provincial Government              43.662301   \n",
       "3  Queen's Park, Ontario Provincial Government              43.662301   \n",
       "4                     Garden District, Ryerson              43.657162   \n",
       "\n",
       "   Neighborhood Longitude               Venue  Venue Latitude  \\\n",
       "0              -79.360636  The Extension Room       43.653313   \n",
       "1              -79.360636     The Yoga Lounge       43.655515   \n",
       "2              -79.389494  The Yoga Sanctuary       43.661499   \n",
       "3              -79.389494      Hart House Gym       43.664172   \n",
       "4              -79.378937  Hard Candy Fitness       43.659556   \n",
       "\n",
       "   Venue Longitude        Venue Category           Borough  \n",
       "0       -79.359725  Gym / Fitness Center  Downtown Toronto  \n",
       "1       -79.364955           Yoga Studio  Downtown Toronto  \n",
       "2       -79.383636           Yoga Studio  Downtown Toronto  \n",
       "3       -79.394888                   Gym  Downtown Toronto  \n",
       "4       -79.382440  Gym / Fitness Center  Downtown Toronto  "
      ]
     },
     "execution_count": 29,
     "metadata": {},
     "output_type": "execute_result"
    }
   ],
   "source": [
    "neighborhoods_sportsvenues = pd.merge(neighborhoods_sportsvenues, df, how='left', on='Neighborhood')\n",
    "neighborhoods_sportsvenues = neighborhoods_sportsvenues.drop(['Postal Code'], axis= 1)\n",
    "neighborhoods_sportsvenues.head()"
   ]
  },
  {
   "cell_type": "markdown",
   "metadata": {},
   "source": [
    "Now, we are about to map all Sports & Fitness venues on Toronto."
   ]
  },
  {
   "cell_type": "code",
   "execution_count": 30,
   "metadata": {},
   "outputs": [
    {
     "data": {
      "text/html": [
       "<div style=\"width:100%;\"><div style=\"position:relative;width:100%;height:0;padding-bottom:60%;\"><span style=\"color:#565656\">Make this Notebook Trusted to load map: File -> Trust Notebook</span><iframe src=\"about:blank\" style=\"position:absolute;width:100%;height:100%;left:0;top:0;border:none !important;\" data-html=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 onload=\"this.contentDocument.open();this.contentDocument.write(atob(this.getAttribute('data-html')));this.contentDocument.close();\" allowfullscreen webkitallowfullscreen mozallowfullscreen></iframe></div></div>"
      ],
      "text/plain": [
       "<folium.folium.Map at 0x1f064e369d0>"
      ]
     },
     "execution_count": 30,
     "metadata": {},
     "output_type": "execute_result"
    }
   ],
   "source": [
    "#Create map of Toronto using latitude and longitude values\n",
    "map_toronto_sportsvenues = folium.Map(location=[latitude, longitude], zoom_start=12)\n",
    "\n",
    "#Add sports venues' markers to map\n",
    "for lat, lng, venue, category, neighborhood in zip(neighborhoods_sportsvenues['Venue Latitude'],\n",
    "                                                   neighborhoods_sportsvenues['Venue Longitude'],\n",
    "                                                   neighborhoods_sportsvenues['Venue'],\n",
    "                                                   neighborhoods_sportsvenues['Venue Category'],\n",
    "                                                   neighborhoods_sportsvenues['Neighborhood']):\n",
    "    label = '{}, {}, {}'.format(venue, category, neighborhood)\n",
    "    label = folium.Popup(label, parse_html=True)\n",
    "    folium.CircleMarker(\n",
    "        [lat, lng],\n",
    "        radius=5,\n",
    "        popup=label,\n",
    "        color='black',\n",
    "        fill=True,\n",
    "        fill_color='#3186cc',\n",
    "        fill_opacity=0.7,\n",
    "        parse_html=False).add_to(map_toronto_sportsvenues)  \n",
    "    \n",
    "map_toronto_sportsvenues"
   ]
  },
  {
   "cell_type": "markdown",
   "metadata": {},
   "source": [
    "Display number and distribution of Sports & Fitness venues"
   ]
  },
  {
   "cell_type": "code",
   "execution_count": 31,
   "metadata": {},
   "outputs": [
    {
     "data": {
      "text/html": [
       "<div>\n",
       "<style scoped>\n",
       "    .dataframe tbody tr th:only-of-type {\n",
       "        vertical-align: middle;\n",
       "    }\n",
       "\n",
       "    .dataframe tbody tr th {\n",
       "        vertical-align: top;\n",
       "    }\n",
       "\n",
       "    .dataframe thead th {\n",
       "        text-align: right;\n",
       "    }\n",
       "</style>\n",
       "<table border=\"1\" class=\"dataframe\">\n",
       "  <thead>\n",
       "    <tr style=\"text-align: right;\">\n",
       "      <th></th>\n",
       "      <th>Venue Category</th>\n",
       "    </tr>\n",
       "  </thead>\n",
       "  <tbody>\n",
       "    <tr>\n",
       "      <th>Gym</th>\n",
       "      <td>26</td>\n",
       "    </tr>\n",
       "    <tr>\n",
       "      <th>Yoga Studio</th>\n",
       "      <td>12</td>\n",
       "    </tr>\n",
       "    <tr>\n",
       "      <th>Gym / Fitness Center</th>\n",
       "      <td>10</td>\n",
       "    </tr>\n",
       "    <tr>\n",
       "      <th>Dance Studio</th>\n",
       "      <td>3</td>\n",
       "    </tr>\n",
       "    <tr>\n",
       "      <th>Martial Arts School</th>\n",
       "      <td>1</td>\n",
       "    </tr>\n",
       "    <tr>\n",
       "      <th>Athletics &amp; Sports</th>\n",
       "      <td>1</td>\n",
       "    </tr>\n",
       "    <tr>\n",
       "      <th>College Gym</th>\n",
       "      <td>1</td>\n",
       "    </tr>\n",
       "    <tr>\n",
       "      <th>Sports Bar</th>\n",
       "      <td>1</td>\n",
       "    </tr>\n",
       "    <tr>\n",
       "      <th>Swim School</th>\n",
       "      <td>1</td>\n",
       "    </tr>\n",
       "    <tr>\n",
       "      <th>Climbing Gym</th>\n",
       "      <td>1</td>\n",
       "    </tr>\n",
       "  </tbody>\n",
       "</table>\n",
       "</div>"
      ],
      "text/plain": [
       "                      Venue Category\n",
       "Gym                               26\n",
       "Yoga Studio                       12\n",
       "Gym / Fitness Center              10\n",
       "Dance Studio                       3\n",
       "Martial Arts School                1\n",
       "Athletics & Sports                 1\n",
       "College Gym                        1\n",
       "Sports Bar                         1\n",
       "Swim School                        1\n",
       "Climbing Gym                       1"
      ]
     },
     "execution_count": 31,
     "metadata": {},
     "output_type": "execute_result"
    }
   ],
   "source": [
    "neighborhoods_sportsvenues['Venue Category'].value_counts(dropna= False).to_frame()"
   ]
  },
  {
   "cell_type": "markdown",
   "metadata": {},
   "source": [
    "Visualize distribution of Sports & Fitness venues on a bar plot"
   ]
  },
  {
   "cell_type": "code",
   "execution_count": 32,
   "metadata": {},
   "outputs": [
    {
     "data": {
      "image/png": "[encoded data removed]",
      "text/plain": [
       "<Figure size 432x288 with 1 Axes>"
      ]
     },
     "metadata": {
      "needs_background": "light"
     },
     "output_type": "display_data"
    }
   ],
   "source": [
    "N = len(neighborhoods_sportsvenues['Venue Category'].value_counts(dropna= False).tolist())\n",
    "x = neighborhoods_sportsvenues['Venue Category'].value_counts(dropna= False).tolist()\n",
    "\n",
    "ind = np.arange(N)    # the x locations for the groups\n",
    "width = 0.5       # the width of the bars: can also be len(x) sequence\n",
    "\n",
    "X = plt.bar(ind, x, width, color='purple')\n",
    "\n",
    "plt.title('Distribution of Sports & Fitness Venues in Toronto')\n",
    "\n",
    "plt.ylabel('Number of Sports Centers')\n",
    "plt.yticks(np.arange(0, 31, 5))\n",
    "\n",
    "plt.xticks(ind, neighborhoods_sportsvenues['Venue Category'].value_counts(dropna= False).to_frame().index.tolist(),rotation=90)\n",
    "\n",
    "plt.show()"
   ]
  },
  {
   "cell_type": "markdown",
   "metadata": {},
   "source": [
    "#### 4. Results"
   ]
  },
  {
   "cell_type": "markdown",
   "metadata": {},
   "source": [
    "Now, we have a clearer picture of distribution of \"Sports & Fitness\" centres in Toronto. To make the data more readable, we will group all below categories (with minor occurence) into  a broader groups: 'Other Sports Center':\n",
    "* Dance Studio\n",
    "* Martial Arts School\n",
    "* College Gym\n",
    "* Sports Bar\n",
    "* Athletics & Sports\n",
    "* Climbing Gym\n",
    "* Swim School"
   ]
  },
  {
   "cell_type": "code",
   "execution_count": 33,
   "metadata": {},
   "outputs": [
    {
     "data": {
      "text/html": [
       "<div>\n",
       "<style scoped>\n",
       "    .dataframe tbody tr th:only-of-type {\n",
       "        vertical-align: middle;\n",
       "    }\n",
       "\n",
       "    .dataframe tbody tr th {\n",
       "        vertical-align: top;\n",
       "    }\n",
       "\n",
       "    .dataframe thead th {\n",
       "        text-align: right;\n",
       "    }\n",
       "</style>\n",
       "<table border=\"1\" class=\"dataframe\">\n",
       "  <thead>\n",
       "    <tr style=\"text-align: right;\">\n",
       "      <th></th>\n",
       "      <th>Neighborhood</th>\n",
       "      <th>Neighborhood Latitude</th>\n",
       "      <th>Neighborhood Longitude</th>\n",
       "      <th>Venue</th>\n",
       "      <th>Venue Latitude</th>\n",
       "      <th>Venue Longitude</th>\n",
       "      <th>Venue Category</th>\n",
       "      <th>Borough</th>\n",
       "      <th>Venue Re-Cat</th>\n",
       "    </tr>\n",
       "  </thead>\n",
       "  <tbody>\n",
       "    <tr>\n",
       "      <th>0</th>\n",
       "      <td>Regent Park, Harbourfront</td>\n",
       "      <td>43.654260</td>\n",
       "      <td>-79.360636</td>\n",
       "      <td>The Extension Room</td>\n",
       "      <td>43.653313</td>\n",
       "      <td>-79.359725</td>\n",
       "      <td>Gym / Fitness Center</td>\n",
       "      <td>Downtown Toronto</td>\n",
       "      <td>Gym / Fitness Center</td>\n",
       "    </tr>\n",
       "    <tr>\n",
       "      <th>1</th>\n",
       "      <td>Regent Park, Harbourfront</td>\n",
       "      <td>43.654260</td>\n",
       "      <td>-79.360636</td>\n",
       "      <td>The Yoga Lounge</td>\n",
       "      <td>43.655515</td>\n",
       "      <td>-79.364955</td>\n",
       "      <td>Yoga Studio</td>\n",
       "      <td>Downtown Toronto</td>\n",
       "      <td>Yoga Studio</td>\n",
       "    </tr>\n",
       "    <tr>\n",
       "      <th>2</th>\n",
       "      <td>Queen's Park, Ontario Provincial Government</td>\n",
       "      <td>43.662301</td>\n",
       "      <td>-79.389494</td>\n",
       "      <td>The Yoga Sanctuary</td>\n",
       "      <td>43.661499</td>\n",
       "      <td>-79.383636</td>\n",
       "      <td>Yoga Studio</td>\n",
       "      <td>Downtown Toronto</td>\n",
       "      <td>Yoga Studio</td>\n",
       "    </tr>\n",
       "    <tr>\n",
       "      <th>3</th>\n",
       "      <td>Queen's Park, Ontario Provincial Government</td>\n",
       "      <td>43.662301</td>\n",
       "      <td>-79.389494</td>\n",
       "      <td>Hart House Gym</td>\n",
       "      <td>43.664172</td>\n",
       "      <td>-79.394888</td>\n",
       "      <td>Gym</td>\n",
       "      <td>Downtown Toronto</td>\n",
       "      <td>Gym</td>\n",
       "    </tr>\n",
       "    <tr>\n",
       "      <th>4</th>\n",
       "      <td>Garden District, Ryerson</td>\n",
       "      <td>43.657162</td>\n",
       "      <td>-79.378937</td>\n",
       "      <td>Hard Candy Fitness</td>\n",
       "      <td>43.659556</td>\n",
       "      <td>-79.382440</td>\n",
       "      <td>Gym / Fitness Center</td>\n",
       "      <td>Downtown Toronto</td>\n",
       "      <td>Gym / Fitness Center</td>\n",
       "    </tr>\n",
       "  </tbody>\n",
       "</table>\n",
       "</div>"
      ],
      "text/plain": [
       "                                  Neighborhood  Neighborhood Latitude  \\\n",
       "0                    Regent Park, Harbourfront              43.654260   \n",
       "1                    Regent Park, Harbourfront              43.654260   \n",
       "2  Queen's Park, Ontario Provincial Government              43.662301   \n",
       "3  Queen's Park, Ontario Provincial Government              43.662301   \n",
       "4                     Garden District, Ryerson              43.657162   \n",
       "\n",
       "   Neighborhood Longitude               Venue  Venue Latitude  \\\n",
       "0              -79.360636  The Extension Room       43.653313   \n",
       "1              -79.360636     The Yoga Lounge       43.655515   \n",
       "2              -79.389494  The Yoga Sanctuary       43.661499   \n",
       "3              -79.389494      Hart House Gym       43.664172   \n",
       "4              -79.378937  Hard Candy Fitness       43.659556   \n",
       "\n",
       "   Venue Longitude        Venue Category           Borough  \\\n",
       "0       -79.359725  Gym / Fitness Center  Downtown Toronto   \n",
       "1       -79.364955           Yoga Studio  Downtown Toronto   \n",
       "2       -79.383636           Yoga Studio  Downtown Toronto   \n",
       "3       -79.394888                   Gym  Downtown Toronto   \n",
       "4       -79.382440  Gym / Fitness Center  Downtown Toronto   \n",
       "\n",
       "           Venue Re-Cat  \n",
       "0  Gym / Fitness Center  \n",
       "1           Yoga Studio  \n",
       "2           Yoga Studio  \n",
       "3                   Gym  \n",
       "4  Gym / Fitness Center  "
      ]
     },
     "execution_count": 33,
     "metadata": {},
     "output_type": "execute_result"
    }
   ],
   "source": [
    "#Group Dance Studio and other centres into \"Other Specialty Center\"\n",
    "neighborhoods_sportsvenues['Venue Re-Cat'] = neighborhoods_sportsvenues['Venue Category']\n",
    "neighborhoods_sportsvenues['Venue Re-Cat'].replace('Dance Studio','Other Sports Center',inplace=True)\n",
    "neighborhoods_sportsvenues['Venue Re-Cat'].replace('Martial Arts School','Other Sports Center',inplace=True)\n",
    "neighborhoods_sportsvenues['Venue Re-Cat'].replace('Climbing Gym','Other Sports Center',inplace=True)\n",
    "neighborhoods_sportsvenues['Venue Re-Cat'].replace('Athletics & Sports','Other Sports Center',inplace=True)\n",
    "neighborhoods_sportsvenues['Venue Re-Cat'].replace('Sports Bar','Other Sports Center',inplace=True)\n",
    "neighborhoods_sportsvenues['Venue Re-Cat'].replace('College Gym','Other Sports Center',inplace=True)\n",
    "neighborhoods_sportsvenues['Venue Re-Cat'].replace('Swim School','Other Sports Center',inplace=True)\n",
    "neighborhoods_sportsvenues.head()"
   ]
  },
  {
   "cell_type": "markdown",
   "metadata": {},
   "source": [
    "Display number and distribution of Sports & Fitness venues"
   ]
  },
  {
   "cell_type": "code",
   "execution_count": 34,
   "metadata": {},
   "outputs": [
    {
     "data": {
      "text/html": [
       "<div>\n",
       "<style scoped>\n",
       "    .dataframe tbody tr th:only-of-type {\n",
       "        vertical-align: middle;\n",
       "    }\n",
       "\n",
       "    .dataframe tbody tr th {\n",
       "        vertical-align: top;\n",
       "    }\n",
       "\n",
       "    .dataframe thead th {\n",
       "        text-align: right;\n",
       "    }\n",
       "</style>\n",
       "<table border=\"1\" class=\"dataframe\">\n",
       "  <thead>\n",
       "    <tr style=\"text-align: right;\">\n",
       "      <th></th>\n",
       "      <th>Venue Re-Cat</th>\n",
       "    </tr>\n",
       "  </thead>\n",
       "  <tbody>\n",
       "    <tr>\n",
       "      <th>Gym</th>\n",
       "      <td>26</td>\n",
       "    </tr>\n",
       "    <tr>\n",
       "      <th>Yoga Studio</th>\n",
       "      <td>12</td>\n",
       "    </tr>\n",
       "    <tr>\n",
       "      <th>Gym / Fitness Center</th>\n",
       "      <td>10</td>\n",
       "    </tr>\n",
       "    <tr>\n",
       "      <th>Other Sports Center</th>\n",
       "      <td>9</td>\n",
       "    </tr>\n",
       "  </tbody>\n",
       "</table>\n",
       "</div>"
      ],
      "text/plain": [
       "                      Venue Re-Cat\n",
       "Gym                             26\n",
       "Yoga Studio                     12\n",
       "Gym / Fitness Center            10\n",
       "Other Sports Center              9"
      ]
     },
     "execution_count": 34,
     "metadata": {},
     "output_type": "execute_result"
    }
   ],
   "source": [
    "neighborhoods_sportsvenues['Venue Re-Cat'].value_counts(dropna= False).to_frame()"
   ]
  },
  {
   "cell_type": "markdown",
   "metadata": {},
   "source": [
    "Visualize distribution of Sports & Fitness venues on a bar plot"
   ]
  },
  {
   "cell_type": "code",
   "execution_count": 35,
   "metadata": {},
   "outputs": [
    {
     "data": {
      "image/png": "[encoded data removed]",
      "text/plain": [
       "<Figure size 432x288 with 1 Axes>"
      ]
     },
     "metadata": {
      "needs_background": "light"
     },
     "output_type": "display_data"
    }
   ],
   "source": [
    "N = len(neighborhoods_sportsvenues['Venue Re-Cat'].value_counts(dropna= False).tolist())\n",
    "x = neighborhoods_sportsvenues['Venue Re-Cat'].value_counts(dropna= False).tolist()\n",
    "\n",
    "ind = np.arange(N)    # the x locations for the groups\n",
    "width = 0.5       # the width of the bars: can also be len(x) sequence\n",
    "\n",
    "X = plt.bar(ind, x, width, color='purple')\n",
    "\n",
    "plt.title('Distribution of Sports Venues in Toronto Areas')\n",
    "\n",
    "plt.ylabel('Number of Sports Centers')\n",
    "plt.yticks(np.arange(0, 31, 5))\n",
    "\n",
    "plt.xticks(ind, neighborhoods_sportsvenues['Venue Re-Cat'].value_counts(dropna= False).to_frame().index.tolist(),rotation=90)\n",
    "\n",
    "plt.show()"
   ]
  },
  {
   "cell_type": "markdown",
   "metadata": {},
   "source": [
    "Then, we shall dissent number and distribution of \"Sports & Fitness\" centres by key borough in Toronto"
   ]
  },
  {
   "cell_type": "code",
   "execution_count": 36,
   "metadata": {},
   "outputs": [
    {
     "data": {
      "text/html": [
       "<div>\n",
       "<style scoped>\n",
       "    .dataframe tbody tr th:only-of-type {\n",
       "        vertical-align: middle;\n",
       "    }\n",
       "\n",
       "    .dataframe tbody tr th {\n",
       "        vertical-align: top;\n",
       "    }\n",
       "\n",
       "    .dataframe thead th {\n",
       "        text-align: right;\n",
       "    }\n",
       "</style>\n",
       "<table border=\"1\" class=\"dataframe\">\n",
       "  <thead>\n",
       "    <tr style=\"text-align: right;\">\n",
       "      <th></th>\n",
       "      <th>Borough</th>\n",
       "    </tr>\n",
       "  </thead>\n",
       "  <tbody>\n",
       "    <tr>\n",
       "      <th>Downtown Toronto</th>\n",
       "      <td>41</td>\n",
       "    </tr>\n",
       "    <tr>\n",
       "      <th>Central Toronto</th>\n",
       "      <td>6</td>\n",
       "    </tr>\n",
       "    <tr>\n",
       "      <th>East Toronto</th>\n",
       "      <td>5</td>\n",
       "    </tr>\n",
       "    <tr>\n",
       "      <th>West Toronto</th>\n",
       "      <td>5</td>\n",
       "    </tr>\n",
       "  </tbody>\n",
       "</table>\n",
       "</div>"
      ],
      "text/plain": [
       "                  Borough\n",
       "Downtown Toronto       41\n",
       "Central Toronto         6\n",
       "East Toronto            5\n",
       "West Toronto            5"
      ]
     },
     "execution_count": 36,
     "metadata": {},
     "output_type": "execute_result"
    }
   ],
   "source": [
    "neighborhoods_sportsvenues['Borough'].value_counts(dropna= False).to_frame()"
   ]
  },
  {
   "cell_type": "markdown",
   "metadata": {},
   "source": [
    "Next, we use pivot table to read data by borough"
   ]
  },
  {
   "cell_type": "code",
   "execution_count": 37,
   "metadata": {},
   "outputs": [
    {
     "data": {
      "text/html": [
       "<div>\n",
       "<style scoped>\n",
       "    .dataframe tbody tr th:only-of-type {\n",
       "        vertical-align: middle;\n",
       "    }\n",
       "\n",
       "    .dataframe tbody tr th {\n",
       "        vertical-align: top;\n",
       "    }\n",
       "\n",
       "    .dataframe thead th {\n",
       "        text-align: right;\n",
       "    }\n",
       "</style>\n",
       "<table border=\"1\" class=\"dataframe\">\n",
       "  <thead>\n",
       "    <tr style=\"text-align: right;\">\n",
       "      <th>Borough</th>\n",
       "      <th>Central Toronto</th>\n",
       "      <th>Downtown Toronto</th>\n",
       "      <th>East Toronto</th>\n",
       "      <th>West Toronto</th>\n",
       "    </tr>\n",
       "    <tr>\n",
       "      <th>Venue Re-Cat</th>\n",
       "      <th></th>\n",
       "      <th></th>\n",
       "      <th></th>\n",
       "      <th></th>\n",
       "    </tr>\n",
       "  </thead>\n",
       "  <tbody>\n",
       "    <tr>\n",
       "      <th>Gym</th>\n",
       "      <td>2.0</td>\n",
       "      <td>21.0</td>\n",
       "      <td>1.0</td>\n",
       "      <td>2.0</td>\n",
       "    </tr>\n",
       "    <tr>\n",
       "      <th>Gym / Fitness Center</th>\n",
       "      <td>1.0</td>\n",
       "      <td>7.0</td>\n",
       "      <td>2.0</td>\n",
       "      <td>0.0</td>\n",
       "    </tr>\n",
       "    <tr>\n",
       "      <th>Other Sports Center</th>\n",
       "      <td>2.0</td>\n",
       "      <td>6.0</td>\n",
       "      <td>0.0</td>\n",
       "      <td>1.0</td>\n",
       "    </tr>\n",
       "    <tr>\n",
       "      <th>Yoga Studio</th>\n",
       "      <td>1.0</td>\n",
       "      <td>7.0</td>\n",
       "      <td>2.0</td>\n",
       "      <td>2.0</td>\n",
       "    </tr>\n",
       "  </tbody>\n",
       "</table>\n",
       "</div>"
      ],
      "text/plain": [
       "Borough               Central Toronto  Downtown Toronto  East Toronto  \\\n",
       "Venue Re-Cat                                                            \n",
       "Gym                               2.0              21.0           1.0   \n",
       "Gym / Fitness Center              1.0               7.0           2.0   \n",
       "Other Sports Center               2.0               6.0           0.0   \n",
       "Yoga Studio                       1.0               7.0           2.0   \n",
       "\n",
       "Borough               West Toronto  \n",
       "Venue Re-Cat                        \n",
       "Gym                            2.0  \n",
       "Gym / Fitness Center           0.0  \n",
       "Other Sports Center            1.0  \n",
       "Yoga Studio                    2.0  "
      ]
     },
     "execution_count": 37,
     "metadata": {},
     "output_type": "execute_result"
    }
   ],
   "source": [
    "neighborhoods_sportsvenues_dis = neighborhoods_sportsvenues.pivot_table(index='Venue Re-Cat',\n",
    "                                                                        columns='Borough',\n",
    "                                                                        values='Venue', aggfunc='count')\n",
    "neighborhoods_sportsvenues_dis= neighborhoods_sportsvenues_dis.replace(np.NaN,0)\n",
    "neighborhoods_sportsvenues_dis"
   ]
  },
  {
   "cell_type": "markdown",
   "metadata": {},
   "source": [
    "Altogether, we can make a few observations already:\n",
    "* Downtown Toronto accomodates the majority of \"Sports & Fitness\", 41. It is more than total number of \"Sports & Fitness\" in 3 other key ares combined\n",
    "* \"Gym\" is the most common type of \"Sports & Fitness\" whereas they are most often in Downtown.\n",
    "* Compared to \"Gym\", all other types of \"Sports & Fitness\" is much less common in all other areas.\n",
    "* There are no other sports center in East Toronto. Also, gym/ fitness are absent in West Toronto."
   ]
  },
  {
   "cell_type": "code",
   "execution_count": 38,
   "metadata": {},
   "outputs": [
    {
     "data": {
      "text/html": [
       "<div>\n",
       "<style scoped>\n",
       "    .dataframe tbody tr th:only-of-type {\n",
       "        vertical-align: middle;\n",
       "    }\n",
       "\n",
       "    .dataframe tbody tr th {\n",
       "        vertical-align: top;\n",
       "    }\n",
       "\n",
       "    .dataframe thead th {\n",
       "        text-align: right;\n",
       "    }\n",
       "</style>\n",
       "<table border=\"1\" class=\"dataframe\">\n",
       "  <thead>\n",
       "    <tr style=\"text-align: right;\">\n",
       "      <th>Venue Re-Cat</th>\n",
       "      <th>Gym</th>\n",
       "      <th>Gym / Fitness Center</th>\n",
       "      <th>Other Sports Center</th>\n",
       "      <th>Yoga Studio</th>\n",
       "    </tr>\n",
       "    <tr>\n",
       "      <th>Borough</th>\n",
       "      <th></th>\n",
       "      <th></th>\n",
       "      <th></th>\n",
       "      <th></th>\n",
       "    </tr>\n",
       "  </thead>\n",
       "  <tbody>\n",
       "    <tr>\n",
       "      <th>Central Toronto</th>\n",
       "      <td>2.0</td>\n",
       "      <td>1.0</td>\n",
       "      <td>2.0</td>\n",
       "      <td>1.0</td>\n",
       "    </tr>\n",
       "    <tr>\n",
       "      <th>Downtown Toronto</th>\n",
       "      <td>21.0</td>\n",
       "      <td>7.0</td>\n",
       "      <td>6.0</td>\n",
       "      <td>7.0</td>\n",
       "    </tr>\n",
       "    <tr>\n",
       "      <th>East Toronto</th>\n",
       "      <td>1.0</td>\n",
       "      <td>2.0</td>\n",
       "      <td>0.0</td>\n",
       "      <td>2.0</td>\n",
       "    </tr>\n",
       "    <tr>\n",
       "      <th>West Toronto</th>\n",
       "      <td>2.0</td>\n",
       "      <td>0.0</td>\n",
       "      <td>1.0</td>\n",
       "      <td>2.0</td>\n",
       "    </tr>\n",
       "  </tbody>\n",
       "</table>\n",
       "</div>"
      ],
      "text/plain": [
       "Venue Re-Cat       Gym  Gym / Fitness Center  Other Sports Center  Yoga Studio\n",
       "Borough                                                                       \n",
       "Central Toronto    2.0                   1.0                  2.0          1.0\n",
       "Downtown Toronto  21.0                   7.0                  6.0          7.0\n",
       "East Toronto       1.0                   2.0                  0.0          2.0\n",
       "West Toronto       2.0                   0.0                  1.0          2.0"
      ]
     },
     "execution_count": 38,
     "metadata": {},
     "output_type": "execute_result"
    }
   ],
   "source": [
    "neighborhoods_sportsvenues_dis.transpose()"
   ]
  },
  {
   "cell_type": "markdown",
   "metadata": {},
   "source": [
    "#### 5. Results"
   ]
  },
  {
   "cell_type": "markdown",
   "metadata": {},
   "source": [
    "Visualize distribution of Sports & Fitness venues in different Borough on a bar plot"
   ]
  },
  {
   "cell_type": "code",
   "execution_count": 39,
   "metadata": {},
   "outputs": [
    {
     "data": {
      "image/png": "[encoded data removed]",
      "text/plain": [
       "<Figure size 432x288 with 1 Axes>"
      ]
     },
     "metadata": {
      "needs_background": "light"
     },
     "output_type": "display_data"
    }
   ],
   "source": [
    "N = len(neighborhoods_sportsvenues_dis.columns.tolist())\n",
    "TC0 = neighborhoods_sportsvenues_dis.transpose()['Gym'].tolist()\n",
    "TC1 = neighborhoods_sportsvenues_dis.transpose()['Gym / Fitness Center'].tolist()\n",
    "TC2 = neighborhoods_sportsvenues_dis.transpose()['Other Sports Center'].tolist()\n",
    "TC3 = neighborhoods_sportsvenues_dis.transpose()['Yoga Studio'].tolist()\n",
    "\n",
    "ind = np.arange(N)    # the x locations for the groups\n",
    "width = 0.5       # the width of the bars: can also be len(x) sequence\n",
    "\n",
    "p1 = plt.bar(ind, TC0, width, color='r')\n",
    "p2 = plt.bar(ind, TC1, width, bottom=np.array(TC0), color='b')\n",
    "p3 = plt.bar(ind, TC2, width, bottom=np.array(TC0)+np.array(TC1), color='g')\n",
    "p4 = plt.bar(ind, TC3, width, bottom=np.array(TC0)+np.array(TC1)+np.array(TC2), color='y')\n",
    "\n",
    "plt.title('Distribution of Sports & Fitness Venues in Toronto')\n",
    "\n",
    "plt.ylabel('Number of Sports Centers')\n",
    "plt.yticks(np.arange(0, 31, 10))\n",
    "\n",
    "plt.xticks(ind, neighborhoods_sportsvenues_dis.columns.tolist())\n",
    "\n",
    "plt.legend((p1[0], p2[0], p3[0], p4[0]), neighborhoods_sportsvenues_dis.transpose().columns.tolist())\n",
    "\n",
    "plt.show()"
   ]
  },
  {
   "cell_type": "markdown",
   "metadata": {},
   "source": [
    "Map all Sports & Fitness venues by different colors on Toronto\n",
    "* Gym (red)\n",
    "* Gym / Fitness Center (blue)\n",
    "* Other Sports Center (green)\n",
    "* Yoga Studio (yellow)"
   ]
  },
  {
   "cell_type": "code",
   "execution_count": 40,
   "metadata": {},
   "outputs": [
    {
     "data": {
      "text/html": [
       "<div style=\"width:100%;\"><div style=\"position:relative;width:100%;height:0;padding-bottom:60%;\"><span style=\"color:#565656\">Make this Notebook Trusted to load map: File -> Trust Notebook</span><iframe src=\"about:blank\" style=\"position:absolute;width:100%;height:100%;left:0;top:0;border:none !important;\" data-html=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 onload=\"this.contentDocument.open();this.contentDocument.write(atob(this.getAttribute('data-html')));this.contentDocument.close();\" allowfullscreen webkitallowfullscreen mozallowfullscreen></iframe></div></div>"
      ],
      "text/plain": [
       "<folium.folium.Map at 0x1f06796d190>"
      ]
     },
     "execution_count": 40,
     "metadata": {},
     "output_type": "execute_result"
    }
   ],
   "source": [
    "#Create map of Toronto using latitude and longitude values\n",
    "map_toronto_sportsvenues_c = folium.Map(location=[latitude, longitude], zoom_start=12)\n",
    "\n",
    "#Add sports venue markers to map - Gym (Red)\n",
    "N_TC = neighborhoods_sportsvenues[neighborhoods_sportsvenues['Venue Re-Cat']=='Gym']\n",
    "for lat, lng, venue, category, neighborhood in zip(N_TC['Venue Latitude'],\n",
    "                                                   N_TC['Venue Longitude'],\n",
    "                                                   N_TC['Venue'],\n",
    "                                                   N_TC['Venue Re-Cat'],\n",
    "                                                   N_TC['Neighborhood']):\n",
    "    label = '{}, {}, {}'.format(venue, category, neighborhood)\n",
    "    label = folium.Popup(label, parse_html=True)\n",
    "    folium.CircleMarker([lat, lng], radius=4, popup=label, fill=True, fill_color='#3186cc', fill_opacity=0.7,\n",
    "                        color = 'red',\n",
    "                        parse_html=False).add_to(map_toronto_sportsvenues_c)  \n",
    "\n",
    "#Add sports venue markers to map - Yoga Studio (Blue)\n",
    "N_TC = neighborhoods_sportsvenues[neighborhoods_sportsvenues['Venue Re-Cat']=='Yoga Studio']\n",
    "for lat, lng, venue, category, neighborhood in zip(N_TC['Venue Latitude'],\n",
    "                                                   N_TC['Venue Longitude'],\n",
    "                                                   N_TC['Venue'],\n",
    "                                                   N_TC['Venue Re-Cat'],\n",
    "                                                   N_TC['Neighborhood']):\n",
    "    label = '{}, {}, {}'.format(venue, category, neighborhood)\n",
    "    label = folium.Popup(label, parse_html=True)\n",
    "    folium.CircleMarker([lat, lng], radius=4, popup=label, fill=True, fill_color='#3186cc', fill_opacity=0.7,\n",
    "                        color = 'blue',\n",
    "                        parse_html=False).add_to(map_toronto_sportsvenues_c)  \n",
    "\n",
    "#Add sports venue markers to map - Gym / Fitness Center (Green)\n",
    "N_TC = neighborhoods_sportsvenues[neighborhoods_sportsvenues['Venue Re-Cat']=='Gym / Fitness Center']\n",
    "for lat, lng, venue, category, neighborhood in zip(N_TC['Venue Latitude'],\n",
    "                                                   N_TC['Venue Longitude'],\n",
    "                                                   N_TC['Venue'],\n",
    "                                                   N_TC['Venue Re-Cat'],\n",
    "                                                   N_TC['Neighborhood']):\n",
    "    label = '{}, {}, {}'.format(venue, category, neighborhood)\n",
    "    label = folium.Popup(label, parse_html=True)\n",
    "    folium.CircleMarker([lat, lng], radius=4, popup=label, fill=True, fill_color='#3186cc', fill_opacity=0.7,\n",
    "                        color = 'green',\n",
    "                        parse_html=False).add_to(map_toronto_sportsvenues_c)  \n",
    "    \n",
    "#Add sports venue markers to map - Other Sports Center (Yellow)\n",
    "N_TC = neighborhoods_sportsvenues[neighborhoods_sportsvenues['Venue Re-Cat']=='Other Sports Center']\n",
    "for lat, lng, venue, category, neighborhood in zip(N_TC['Venue Latitude'],\n",
    "                                                   N_TC['Venue Longitude'],\n",
    "                                                   N_TC['Venue'],\n",
    "                                                   N_TC['Venue Re-Cat'],\n",
    "                                                   N_TC['Neighborhood']):\n",
    "    label = '{}, {}, {}'.format(venue, category, neighborhood)\n",
    "    label = folium.Popup(label, parse_html=True)\n",
    "    folium.CircleMarker([lat, lng], radius=4, popup=label, fill=True, fill_color='#3186cc', fill_opacity=0.7,\n",
    "                        color = 'yellow',\n",
    "                        parse_html=False).add_to(map_toronto_sportsvenues_c)  \n",
    "\n",
    "map_toronto_sportsvenues_c"
   ]
  },
  {
   "cell_type": "markdown",
   "metadata": {},
   "source": [
    "#### 5. Discussion"
   ]
  },
  {
   "cell_type": "markdown",
   "metadata": {},
   "source": [
    "By now, we have gathered sufficient information to answer the business objectives."
   ]
  },
  {
   "cell_type": "markdown",
   "metadata": {},
   "source": [
    "Areas with the most and least sports service centres:\n",
    "\n",
    "Downtown Toronto is, obviously, the areas most concentrated with “Sports & Fitness” venues. Other areas (namely, East, West and Central) contain just a few venues.\n",
    "\n",
    "Also, these sport venues are heavily skewed towards “Gym”, distantly followed by “Yoga Studio” and “Fitness”. Other specialty (e.g. Martials Arts, Climbing) are lacking."
   ]
  },
  {
   "cell_type": "markdown",
   "metadata": {},
   "source": [
    "Discover potentials for provision of “Sports & Fitness Services”:\n",
    "* From the map, we see a lot of “Sports & Fitness” venues are concentrated in city center, “Downtown”. The peripheral of city areas are less concentrated. As competition in Downtown areas is getting more and more fierce, it is time to consider put new “Sports and Fitness” venues in other areas where competition is still low.\n",
    "* We have an impression that specialty centers (e.g. “Yoga Studio” and “Fitness”) have potential, given there are just very few in the city currently. As consumers are more aware of these sports centers, they are likely to have higher demand of such centers. Service providers are advised to plan setting up these centres in the future and gather capital for the future."
   ]
  },
  {
   "cell_type": "markdown",
   "metadata": {},
   "source": [
    "#### 6. Conclusion"
   ]
  },
  {
   "cell_type": "markdown",
   "metadata": {},
   "source": [
    "Like we what have set up in background, “Sports & Fitness” industry become very important to consumers nowadays. It is not just limited to a niche portion of elite citizens but all residents in general. In this analysis, we identify a few potentials for consideration for service providers, for example:\n",
    "* What types of “Sports & Fitness” venues are missing / lagging behind in quantity?\n",
    "* How are “Sports & Fitness” venues distributed in Toronto?"
   ]
  },
  {
   "cell_type": "markdown",
   "metadata": {},
   "source": [
    "These are important information for service providers. However, given the ever-changing situation in Toronto, it is vital to keep monitoring the latest data. Therefore, data analysis become the best tool in this exercise, as we re-run the analysis with the same codes and execution in regular time interval without much hassles. We would recommend service providers to continuously keep track of changing distribution of “Sports & Fitness” (e.g. every quarter) in the coming future."
   ]
  }
 ],
 "metadata": {
  "kernelspec": {
   "display_name": "Python 3",
   "language": "python",
   "name": "python3"
  },
  "language_info": {
   "codemirror_mode": {
    "name": "ipython",
    "version": 3
   },
   "file_extension": ".py",
   "mimetype": "text/x-python",
   "name": "python",
   "nbconvert_exporter": "python",
   "pygments_lexer": "ipython3",
   "version": "3.8.5"
  }
 },
 "nbformat": 4,
 "nbformat_minor": 4
}
